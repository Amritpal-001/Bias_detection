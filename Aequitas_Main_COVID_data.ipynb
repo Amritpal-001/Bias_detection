{
  "nbformat": 4,
  "nbformat_minor": 0,
  "metadata": {
    "hide_input": false,
    "kernelspec": {
      "display_name": "Python 3",
      "language": "python",
      "name": "python3"
    },
    "language_info": {
      "codemirror_mode": {
        "name": "ipython",
        "version": 3
      },
      "file_extension": ".py",
      "mimetype": "text/x-python",
      "name": "python",
      "nbconvert_exporter": "python",
      "pygments_lexer": "ipython3",
      "version": "3.6.9"
    },
    "varInspector": {
      "cols": {
        "lenName": 16,
        "lenType": 16,
        "lenVar": 40
      },
      "kernels_config": {
        "python": {
          "delete_cmd_postfix": "",
          "delete_cmd_prefix": "del ",
          "library": "var_list.py",
          "varRefreshCmd": "print(var_dic_list())"
        },
        "r": {
          "delete_cmd_postfix": ") ",
          "delete_cmd_prefix": "rm(",
          "library": "var_list.r",
          "varRefreshCmd": "cat(var_dic_list()) "
        }
      },
      "types_to_exclude": [
        "module",
        "function",
        "builtin_function_or_method",
        "instance",
        "_Feature"
      ],
      "window_display": false
    },
    "colab": {
      "name": "Aequitas_Main_COVID_data.ipynb",
      "provenance": [],
      "collapsed_sections": [
        "B4kOgNCaTRpD",
        "_OvqNIz8TRpT",
        "ZHQqVSDJTRpW",
        "9a3rvElNTRpj"
      ],
      "toc_visible": true
    }
  },
  "cells": [
    {
      "cell_type": "markdown",
      "metadata": {
        "id": "Bagy5q1lTRpK"
      },
      "source": [
        "**Aequitas**\n",
        "\n",
        "Applying Aequitas progammatically is a three step process represented by three python classes: \n",
        "\n",
        "`Group()`: Define groups \n",
        "\n",
        "`Bias()`: Calculate disparities\n",
        "\n",
        "`Fairness()`: Assert fairness\n",
        "\n",
        "Each class builds on the previous one expanding the output DataFrame.\n",
        "\n",
        "\n",
        "\n",
        "\n",
        "**The Aequitas tool always requires a `score` column and requires a binary `label_value` column for supervised metrics**, (i.e., False Discovery Rate, False Positive Rate, False Omission Rate, and False Negative Rate).\n",
        "\n",
        "https://github.com/dssg/aequitas\n"
      ]
    },
    {
      "cell_type": "markdown",
      "metadata": {
        "id": "mrh7Rn9yjKed"
      },
      "source": [
        "## Data preprocessing"
      ]
    },
    {
      "cell_type": "code",
      "metadata": {
        "id": "e2BPPpnfTltd"
      },
      "source": [
        "!git clone https://github.com/dssg/aequitas.git"
      ],
      "execution_count": null,
      "outputs": []
    },
    {
      "cell_type": "code",
      "metadata": {
        "id": "vtnr-jiTUW28",
        "colab": {
          "base_uri": "https://localhost:8080/"
        },
        "outputId": "2e6b0dc5-9a9e-4285-fac3-cdef3be21506"
      },
      "source": [
        "!pip install aequitas"
      ],
      "execution_count": null,
      "outputs": [
        {
          "output_type": "stream",
          "text": [
            "Collecting reportlab>=3.0\n",
            "\u001b[?25l  Downloading https://files.pythonhosted.org/packages/4e/ca/f109a94f816b08e1b2f90711c83bdd5596c4b31b3112fe3fa0051ec3c6e6/reportlab-3.5.56-cp36-cp36m-manylinux2010_x86_64.whl (2.6MB)\n",
            "\u001b[K     |████████████████████████████████| 2.6MB 34.5MB/s \n",
            "\u001b[?25hRequirement already satisfied: six in /usr/local/lib/python3.6/dist-packages (from xhtml2pdf==0.2.2->aequitas) (1.15.0)\n",
            "Requirement already satisfied: click>=2.0 in /usr/local/lib/python3.6/dist-packages (from Flask==0.12.2->aequitas) (7.1.2)\n",
            "Requirement already satisfied: itsdangerous>=0.21 in /usr/local/lib/python3.6/dist-packages (from Flask==0.12.2->aequitas) (1.1.0)\n",
            "Requirement already satisfied: Werkzeug>=0.7 in /usr/local/lib/python3.6/dist-packages (from Flask==0.12.2->aequitas) (1.0.1)\n",
            "Collecting dominate\n",
            "  Downloading https://files.pythonhosted.org/packages/ef/a8/4354f8122c39e35516a2708746d89db5e339c867abbd8e0179bccee4b7f9/dominate-2.6.0-py2.py3-none-any.whl\n",
            "Collecting visitor\n",
            "  Downloading https://files.pythonhosted.org/packages/d7/58/785fcd6de4210049da5fafe62301b197f044f3835393594be368547142b0/visitor-0.1.3.tar.gz\n",
            "Requirement already satisfied: kiwisolver>=1.0.1 in /usr/local/lib/python3.6/dist-packages (from matplotlib>=3.0.3->aequitas) (1.3.1)\n",
            "Requirement already satisfied: cycler>=0.10 in /usr/local/lib/python3.6/dist-packages (from matplotlib>=3.0.3->aequitas) (0.10.0)\n",
            "Requirement already satisfied: pyparsing!=2.0.4,!=2.1.2,!=2.1.6,>=2.0.1 in /usr/local/lib/python3.6/dist-packages (from matplotlib>=3.0.3->aequitas) (2.4.7)\n",
            "Requirement already satisfied: MarkupSafe>=0.23 in /usr/local/lib/python3.6/dist-packages (from jinja2->altair==4.1.0->aequitas) (1.1.1)\n",
            "Requirement already satisfied: webencodings in /usr/local/lib/python3.6/dist-packages (from html5lib>=1.0->xhtml2pdf==0.2.2->aequitas) (0.5.1)\n",
            "Building wheels for collected packages: xhtml2pdf, pyyaml, tabulate, Flask-Bootstrap, markdown2, millify, pyPdf2, visitor\n",
            "  Building wheel for xhtml2pdf (setup.py) ... \u001b[?25l\u001b[?25hdone\n",
            "  Created wheel for xhtml2pdf: filename=xhtml2pdf-0.2.2-cp36-none-any.whl size=231059 sha256=ed299c376168a61b76ec34ef6980dac1bd7618c65ddc3f5fcab9c4cda76fecb5\n",
            "  Stored in directory: /root/.cache/pip/wheels/37/e9/d9/8ef244092a2b3b004ab197f5c707973c8ce2082fa75fb6ce6a\n",
            "  Building wheel for pyyaml (setup.py) ... \u001b[?25l\u001b[?25hdone\n",
            "  Created wheel for pyyaml: filename=PyYAML-5.3.1-cp36-cp36m-linux_x86_64.whl size=44621 sha256=cf17a614e491bc92bcf8575a0142edb770cdcac53870efe23490c2944519d565\n",
            "  Stored in directory: /root/.cache/pip/wheels/a7/c1/ea/cf5bd31012e735dc1dfea3131a2d5eae7978b251083d6247bd\n",
            "  Building wheel for tabulate (setup.py) ... \u001b[?25l\u001b[?25hdone\n",
            "  Created wheel for tabulate: filename=tabulate-0.8.2-cp36-none-any.whl size=23535 sha256=4d74ea276c66a0a79241090a5f7329624c7061f4aefcf30949ce2556c62cf712\n",
            "  Stored in directory: /root/.cache/pip/wheels/2a/85/33/2f6da85d5f10614cbe5a625eab3b3aebfdf43e7b857f25f829\n",
            "  Building wheel for Flask-Bootstrap (setup.py) ... \u001b[?25l\u001b[?25hdone\n",
            "  Created wheel for Flask-Bootstrap: filename=Flask_Bootstrap-3.3.7.1-cp36-none-any.whl size=460123 sha256=1872f8d244cfc311a92c3f1f2a389c3dab83766adc728603b95417d9fbded9e8\n",
            "  Stored in directory: /root/.cache/pip/wheels/e8/b9/93/ef6ac3b8ead2d72cbcc042b9d58b613aaf47e533b9dc5b5999\n",
            "  Building wheel for markdown2 (setup.py) ... \u001b[?25l\u001b[?25hdone\n",
            "  Created wheel for markdown2: filename=markdown2-2.3.5-cp36-none-any.whl size=33311 sha256=f9f9a8432a04a11eafc0ca62c002d7075bc04938411064f2521cd522cd1a9461\n",
            "  Stored in directory: /root/.cache/pip/wheels/07/99/0b/89995aca5b1253b89caa7de4041fabea6fba469f42da697664\n",
            "  Building wheel for millify (setup.py) ... \u001b[?25l\u001b[?25hdone\n",
            "  Created wheel for millify: filename=millify-0.1.1-cp36-none-any.whl size=1867 sha256=0a624b32801a71b68393c278bb2484f1b7be9a2a7df63efa9328b192dc4ddc7c\n",
            "  Stored in directory: /root/.cache/pip/wheels/19/7d/d9/3f1ca52c5b6c4f05b11f1ab5a088fc1cf6174965e81308faeb\n",
            "  Building wheel for pyPdf2 (setup.py) ... \u001b[?25l\u001b[?25hdone\n",
            "  Created wheel for pyPdf2: filename=PyPDF2-1.26.0-cp36-none-any.whl size=61087 sha256=65b116cf3ebaffa9cd665bdf3c35a8b134d840314cbc208ab8bbfd2b0c3def05\n",
            "  Stored in directory: /root/.cache/pip/wheels/53/84/19/35bc977c8bf5f0c23a8a011aa958acd4da4bbd7a229315c1b7\n",
            "  Building wheel for visitor (setup.py) ... \u001b[?25l\u001b[?25hdone\n",
            "  Created wheel for visitor: filename=visitor-0.1.3-cp36-none-any.whl size=3932 sha256=2a590ea21a8853b35f1c2df8f57e1f236c946e58c49aeef94e1c535c00dbd7a4\n",
            "  Stored in directory: /root/.cache/pip/wheels/68/b0/a2/cc8c7cf94ca3d1088a7d2e27936c1e0da170e05f560973e8dd\n",
            "Successfully built xhtml2pdf pyyaml tabulate Flask-Bootstrap markdown2 millify pyPdf2 visitor\n",
            "Installing collected packages: pyPdf2, reportlab, xhtml2pdf, pyyaml, tabulate, Flask, ohio, dominate, visitor, Flask-Bootstrap, markdown2, millify, aequitas\n",
            "  Found existing installation: PyYAML 3.13\n",
            "    Uninstalling PyYAML-3.13:\n",
            "      Successfully uninstalled PyYAML-3.13\n",
            "  Found existing installation: tabulate 0.8.7\n",
            "    Uninstalling tabulate-0.8.7:\n",
            "      Successfully uninstalled tabulate-0.8.7\n",
            "  Found existing installation: Flask 1.1.2\n",
            "    Uninstalling Flask-1.1.2:\n",
            "      Successfully uninstalled Flask-1.1.2\n",
            "Successfully installed Flask-0.12.2 Flask-Bootstrap-3.3.7.1 aequitas-0.42.0 dominate-2.6.0 markdown2-2.3.5 millify-0.1.1 ohio-0.5.0 pyPdf2-1.26.0 pyyaml-5.3.1 reportlab-3.5.56 tabulate-0.8.2 visitor-0.1.3 xhtml2pdf-0.2.2\n"
          ],
          "name": "stdout"
        }
      ]
    },
    {
      "cell_type": "code",
      "metadata": {
        "ExecuteTime": {
          "end_time": "2020-08-18T18:07:31.068996Z",
          "start_time": "2020-08-18T18:07:11.042342Z"
        },
        "id": "2BnboLL4TRpA"
      },
      "source": [
        "import pandas as pd\n",
        "import seaborn as sns\n",
        "from aequitas.group import Group\n",
        "from aequitas.bias import Bias\n",
        "from aequitas.fairness import Fairness\n",
        "from aequitas.plotting import Plot\n",
        "\n",
        "import os\n",
        "import glob\n",
        "from PIL import Image\n",
        "import matplotlib.pyplot as plt\n",
        "from pandas.plotting import table\n",
        "import numpy as np\n",
        "\n",
        "# import warnings; warnings.simplefilter('ignore')\n",
        "\n",
        "%matplotlib inline"
      ],
      "execution_count": null,
      "outputs": []
    },
    {
      "cell_type": "code",
      "metadata": {
        "colab": {
          "base_uri": "https://localhost:8080/",
          "height": 207
        },
        "id": "UTk1IWnhF4D8",
        "outputId": "8d0e31c0-aa34-4505-dc11-5333e505d686"
      },
      "source": [
        "df = pd.read_csv(\"/content/lunit demo-gt_pneumonia.csv\")\n",
        "df.head()"
      ],
      "execution_count": null,
      "outputs": [
        {
          "output_type": "execute_result",
          "data": {
            "text/html": [
              "<div>\n",
              "<style scoped>\n",
              "    .dataframe tbody tr th:only-of-type {\n",
              "        vertical-align: middle;\n",
              "    }\n",
              "\n",
              "    .dataframe tbody tr th {\n",
              "        vertical-align: top;\n",
              "    }\n",
              "\n",
              "    .dataframe thead th {\n",
              "        text-align: right;\n",
              "    }\n",
              "</style>\n",
              "<table border=\"1\" class=\"dataframe\">\n",
              "  <thead>\n",
              "    <tr style=\"text-align: right;\">\n",
              "      <th></th>\n",
              "      <th>PatientName</th>\n",
              "      <th>Procedure</th>\n",
              "      <th>PatientAge</th>\n",
              "      <th>PatientSex</th>\n",
              "      <th>label_value</th>\n",
              "      <th>label_covid</th>\n",
              "      <th>score</th>\n",
              "      <th>score_covid</th>\n",
              "      <th>entity_id</th>\n",
              "    </tr>\n",
              "  </thead>\n",
              "  <tbody>\n",
              "    <tr>\n",
              "      <th>0</th>\n",
              "      <td>COVID-TEST-CXR-788</td>\n",
              "      <td>PORTABLE X - RAY - CHEST- AP</td>\n",
              "      <td>051Y</td>\n",
              "      <td>M</td>\n",
              "      <td>1</td>\n",
              "      <td>1</td>\n",
              "      <td>53.6</td>\n",
              "      <td>50</td>\n",
              "      <td>1</td>\n",
              "    </tr>\n",
              "    <tr>\n",
              "      <th>1</th>\n",
              "      <td>COVID-TEST-CXR-327</td>\n",
              "      <td>PORTABLE X - RAY - CHEST- PA</td>\n",
              "      <td>055Y</td>\n",
              "      <td>M</td>\n",
              "      <td>1</td>\n",
              "      <td>1</td>\n",
              "      <td>34.5</td>\n",
              "      <td>25</td>\n",
              "      <td>2</td>\n",
              "    </tr>\n",
              "    <tr>\n",
              "      <th>2</th>\n",
              "      <td>COVID-TEST-CXR-281</td>\n",
              "      <td>PORTABLE X - RAY - CHEST- AP</td>\n",
              "      <td>059Y</td>\n",
              "      <td>F</td>\n",
              "      <td>1</td>\n",
              "      <td>1</td>\n",
              "      <td>64.1</td>\n",
              "      <td>50</td>\n",
              "      <td>3</td>\n",
              "    </tr>\n",
              "    <tr>\n",
              "      <th>3</th>\n",
              "      <td>COVID-TEST-CXR-260</td>\n",
              "      <td>PORTABLE X - RAY - CHEST- AP</td>\n",
              "      <td>065Y</td>\n",
              "      <td>F</td>\n",
              "      <td>1</td>\n",
              "      <td>1</td>\n",
              "      <td>73</td>\n",
              "      <td>50</td>\n",
              "      <td>4</td>\n",
              "    </tr>\n",
              "    <tr>\n",
              "      <th>4</th>\n",
              "      <td>COVID-TEST-CXR-255</td>\n",
              "      <td>X-RAY CHEST ( PA VIEW )</td>\n",
              "      <td>019Y</td>\n",
              "      <td>M</td>\n",
              "      <td>0</td>\n",
              "      <td>1</td>\n",
              "      <td>24.7</td>\n",
              "      <td>25</td>\n",
              "      <td>5</td>\n",
              "    </tr>\n",
              "  </tbody>\n",
              "</table>\n",
              "</div>"
            ],
            "text/plain": [
              "          PatientName                     Procedure  ... score_covid entity_id\n",
              "0  COVID-TEST-CXR-788  PORTABLE X - RAY - CHEST- AP  ...          50         1\n",
              "1  COVID-TEST-CXR-327  PORTABLE X - RAY - CHEST- PA  ...          25         2\n",
              "2  COVID-TEST-CXR-281  PORTABLE X - RAY - CHEST- AP  ...          50         3\n",
              "3  COVID-TEST-CXR-260  PORTABLE X - RAY - CHEST- AP  ...          50         4\n",
              "4  COVID-TEST-CXR-255       X-RAY CHEST ( PA VIEW )  ...          25         5\n",
              "\n",
              "[5 rows x 9 columns]"
            ]
          },
          "metadata": {
            "tags": []
          },
          "execution_count": 3
        }
      ]
    },
    {
      "cell_type": "code",
      "metadata": {
        "colab": {
          "base_uri": "https://localhost:8080/"
        },
        "id": "oIsCHv6zmVAg",
        "outputId": "aa8b0f6a-8818-4ea1-8ecd-3c76335fa4d7"
      },
      "source": [
        "df = pd.read_csv(\"/content/lunit demo-gt_pneumonia.csv\")\n",
        "\n",
        "threshold = 35\n",
        "\n",
        "for a in range(len(df['score'])):\n",
        "  b = df['score'][a]\n",
        "  try:\n",
        "    \n",
        "    if (int(float(b)) >= int(float(threshold))) == True:\n",
        "          c = 0\n",
        "          df['score'][a] = c\n",
        "\n",
        "    elif (int(float(b)) <= int(float(threshold))) == True:\n",
        "          c = 1\n",
        "          df['score'][a] = c\n",
        "  except:\n",
        "    print(b)\n",
        "    df['score'][a] = 0\n",
        "\n",
        "#df['score'][:50]"
      ],
      "execution_count": null,
      "outputs": [
        {
          "output_type": "stream",
          "text": [
            "-\n",
            "-\n",
            "-\n"
          ],
          "name": "stdout"
        },
        {
          "output_type": "stream",
          "text": [
            "/usr/local/lib/python3.6/dist-packages/ipykernel_launcher.py:11: SettingWithCopyWarning: \n",
            "A value is trying to be set on a copy of a slice from a DataFrame\n",
            "\n",
            "See the caveats in the documentation: https://pandas.pydata.org/pandas-docs/stable/user_guide/indexing.html#returning-a-view-versus-a-copy\n",
            "  # This is added back by InteractiveShellApp.init_path()\n",
            "/usr/local/lib/python3.6/dist-packages/ipykernel_launcher.py:15: SettingWithCopyWarning: \n",
            "A value is trying to be set on a copy of a slice from a DataFrame\n",
            "\n",
            "See the caveats in the documentation: https://pandas.pydata.org/pandas-docs/stable/user_guide/indexing.html#returning-a-view-versus-a-copy\n",
            "  from ipykernel import kernelapp as app\n",
            "/usr/local/lib/python3.6/dist-packages/ipykernel_launcher.py:18: SettingWithCopyWarning: \n",
            "A value is trying to be set on a copy of a slice from a DataFrame\n",
            "\n",
            "See the caveats in the documentation: https://pandas.pydata.org/pandas-docs/stable/user_guide/indexing.html#returning-a-view-versus-a-copy\n"
          ],
          "name": "stderr"
        }
      ]
    },
    {
      "cell_type": "code",
      "metadata": {
        "colab": {
          "base_uri": "https://localhost:8080/"
        },
        "id": "vuiCiJk1036n",
        "outputId": "3a005aab-cca4-43ab-ddb7-8f0c8c89c31c"
      },
      "source": [
        "for a in range(len(df['Procedure'])):\n",
        "  b = df['Procedure'][a]\n",
        "  try:\n",
        "      if ('ANY OTHER' in b) == True:\n",
        "        c = 'PA' #'other'\n",
        "        df['Procedure'][a] = c\n",
        "\n",
        "      elif ('AP' in b) == True:\n",
        "        c = 'AP'\n",
        "        df['Procedure'][a] = c\n",
        "\n",
        "      elif ('PA'in b) == True:\n",
        "        c = 'PA'\n",
        "        df['Procedure'][a] = c\n",
        "\n",
        "  except:\n",
        "        c = 'PA' #'other'\n",
        "        df['Procedure'][a] = c\n",
        "  \n"
      ],
      "execution_count": null,
      "outputs": [
        {
          "output_type": "stream",
          "text": [
            "/usr/local/lib/python3.6/dist-packages/ipykernel_launcher.py:10: SettingWithCopyWarning: \n",
            "A value is trying to be set on a copy of a slice from a DataFrame\n",
            "\n",
            "See the caveats in the documentation: https://pandas.pydata.org/pandas-docs/stable/user_guide/indexing.html#returning-a-view-versus-a-copy\n",
            "  # Remove the CWD from sys.path while we load stuff.\n",
            "/usr/local/lib/python3.6/dist-packages/ipykernel_launcher.py:14: SettingWithCopyWarning: \n",
            "A value is trying to be set on a copy of a slice from a DataFrame\n",
            "\n",
            "See the caveats in the documentation: https://pandas.pydata.org/pandas-docs/stable/user_guide/indexing.html#returning-a-view-versus-a-copy\n",
            "  \n",
            "/usr/local/lib/python3.6/dist-packages/ipykernel_launcher.py:18: SettingWithCopyWarning: \n",
            "A value is trying to be set on a copy of a slice from a DataFrame\n",
            "\n",
            "See the caveats in the documentation: https://pandas.pydata.org/pandas-docs/stable/user_guide/indexing.html#returning-a-view-versus-a-copy\n"
          ],
          "name": "stderr"
        }
      ]
    },
    {
      "cell_type": "code",
      "metadata": {
        "colab": {
          "base_uri": "https://localhost:8080/"
        },
        "id": "dwPqaeGyHtlh",
        "outputId": "894de983-92be-4b6b-f0cf-784b53df60af"
      },
      "source": [
        "for a in range(len(df['PatientAge'])):\n",
        "  b = df['PatientAge'][a]\n",
        "  try:\n",
        "      if ('Y' in b) == True:\n",
        "        c = b[1:3]\n",
        "        df['PatientAge'][a] = c\n",
        "\n",
        "  except:\n",
        "      c = 0\n",
        "      df['PatientAge'][a] = c"
      ],
      "execution_count": null,
      "outputs": [
        {
          "output_type": "stream",
          "text": [
            "/usr/local/lib/python3.6/dist-packages/ipykernel_launcher.py:6: SettingWithCopyWarning: \n",
            "A value is trying to be set on a copy of a slice from a DataFrame\n",
            "\n",
            "See the caveats in the documentation: https://pandas.pydata.org/pandas-docs/stable/user_guide/indexing.html#returning-a-view-versus-a-copy\n",
            "  \n",
            "/usr/local/lib/python3.6/dist-packages/ipykernel_launcher.py:10: SettingWithCopyWarning: \n",
            "A value is trying to be set on a copy of a slice from a DataFrame\n",
            "\n",
            "See the caveats in the documentation: https://pandas.pydata.org/pandas-docs/stable/user_guide/indexing.html#returning-a-view-versus-a-copy\n",
            "  # Remove the CWD from sys.path while we load stuff.\n"
          ],
          "name": "stderr"
        }
      ]
    },
    {
      "cell_type": "code",
      "metadata": {
        "colab": {
          "base_uri": "https://localhost:8080/"
        },
        "id": "RpNmNdMWiK7v",
        "outputId": "5c07e25c-76f9-4f69-8177-9119a34b15f6"
      },
      "source": [
        "limit1 = 18\n",
        "limit2 = 50\n",
        "limit = 51\n",
        "\n",
        "for a in range(len(df['PatientAge'])):\n",
        "  b = df['PatientAge'][a]\n",
        "  try:\n",
        "    if int(b) <= limit1:\n",
        "          c = 'child'\n",
        "          df['PatientAge'][a] = c\n",
        "\n",
        "    elif int(b) <= limit2:\n",
        "          c = 'adult'\n",
        "          df['PatientAge'][a] = c\n",
        "\n",
        "    else:\n",
        "          c = 'old_age'\n",
        "          df['PatientAge'][a] = c\n",
        "\n",
        "  except:\n",
        "      c = 'adult' #'none'\n",
        "      df['PatientAge'][a] = c"
      ],
      "execution_count": null,
      "outputs": [
        {
          "output_type": "stream",
          "text": [
            "/usr/local/lib/python3.6/dist-packages/ipykernel_launcher.py:18: SettingWithCopyWarning: \n",
            "A value is trying to be set on a copy of a slice from a DataFrame\n",
            "\n",
            "See the caveats in the documentation: https://pandas.pydata.org/pandas-docs/stable/user_guide/indexing.html#returning-a-view-versus-a-copy\n",
            "/usr/local/lib/python3.6/dist-packages/ipykernel_launcher.py:14: SettingWithCopyWarning: \n",
            "A value is trying to be set on a copy of a slice from a DataFrame\n",
            "\n",
            "See the caveats in the documentation: https://pandas.pydata.org/pandas-docs/stable/user_guide/indexing.html#returning-a-view-versus-a-copy\n",
            "  \n",
            "/usr/local/lib/python3.6/dist-packages/ipykernel_launcher.py:10: SettingWithCopyWarning: \n",
            "A value is trying to be set on a copy of a slice from a DataFrame\n",
            "\n",
            "See the caveats in the documentation: https://pandas.pydata.org/pandas-docs/stable/user_guide/indexing.html#returning-a-view-versus-a-copy\n",
            "  # Remove the CWD from sys.path while we load stuff.\n",
            "/usr/local/lib/python3.6/dist-packages/ipykernel_launcher.py:22: SettingWithCopyWarning: \n",
            "A value is trying to be set on a copy of a slice from a DataFrame\n",
            "\n",
            "See the caveats in the documentation: https://pandas.pydata.org/pandas-docs/stable/user_guide/indexing.html#returning-a-view-versus-a-copy\n"
          ],
          "name": "stderr"
        }
      ]
    },
    {
      "cell_type": "code",
      "metadata": {
        "colab": {
          "base_uri": "https://localhost:8080/"
        },
        "id": "0OeaWyXE2A1v",
        "outputId": "a0da1135-7e04-4742-f13a-034b37ddaa2c"
      },
      "source": [
        "for a in range(len(df['PatientSex'])):\n",
        "  b = df['PatientSex'][a]\n",
        "  try:\n",
        "      if ('F' in b) == True:\n",
        "        c = 'F'\n",
        "        df['PatientSex'][a] = c\n",
        "\n",
        "      elif ('M' in b) == True:\n",
        "        c = 'M'\n",
        "        df['PatientSex'][a] = c\n",
        "      else:\n",
        "        c = 'other'\n",
        "        df['PatientSex'][a] = c\n",
        "\n",
        "  except:\n",
        "      c = 'other'\n",
        "      df['PatientSex'][a] = c"
      ],
      "execution_count": null,
      "outputs": [
        {
          "output_type": "stream",
          "text": [
            "/usr/local/lib/python3.6/dist-packages/ipykernel_launcher.py:10: SettingWithCopyWarning: \n",
            "A value is trying to be set on a copy of a slice from a DataFrame\n",
            "\n",
            "See the caveats in the documentation: https://pandas.pydata.org/pandas-docs/stable/user_guide/indexing.html#returning-a-view-versus-a-copy\n",
            "  # Remove the CWD from sys.path while we load stuff.\n",
            "/usr/local/lib/python3.6/dist-packages/ipykernel_launcher.py:6: SettingWithCopyWarning: \n",
            "A value is trying to be set on a copy of a slice from a DataFrame\n",
            "\n",
            "See the caveats in the documentation: https://pandas.pydata.org/pandas-docs/stable/user_guide/indexing.html#returning-a-view-versus-a-copy\n",
            "  \n",
            "/usr/local/lib/python3.6/dist-packages/ipykernel_launcher.py:13: SettingWithCopyWarning: \n",
            "A value is trying to be set on a copy of a slice from a DataFrame\n",
            "\n",
            "See the caveats in the documentation: https://pandas.pydata.org/pandas-docs/stable/user_guide/indexing.html#returning-a-view-versus-a-copy\n",
            "  del sys.path[0]\n",
            "/usr/local/lib/python3.6/dist-packages/ipykernel_launcher.py:17: SettingWithCopyWarning: \n",
            "A value is trying to be set on a copy of a slice from a DataFrame\n",
            "\n",
            "See the caveats in the documentation: https://pandas.pydata.org/pandas-docs/stable/user_guide/indexing.html#returning-a-view-versus-a-copy\n"
          ],
          "name": "stderr"
        }
      ]
    },
    {
      "cell_type": "code",
      "metadata": {
        "id": "sKxicnKqi5hf",
        "colab": {
          "base_uri": "https://localhost:8080/",
          "height": 36
        },
        "outputId": "8e58bf19-cc92-44e2-af29-622f46c2480d"
      },
      "source": [
        "df['label_value'] = df['label_value'].astype(int)\n",
        "df['score'] = df['score'].astype(int)\n",
        "#df['label_value'] = df['label_value'].astype(str)\n",
        "#df['score'] = df['score'].astype(str)\n",
        "'''df['PatientAge'] = df['PatientAge'].astype(str)\n",
        "df['PatientSex'] = df['PatientSex'].astype(str)\n",
        "df['PatientName'] = df['PatientAge'].astype(str)\n",
        "df['PatientSex'] = df['PatientSex'].astype(str)\n",
        "\n",
        "df['Procedure'] = df['Procedure'].astype(str)'''"
      ],
      "execution_count": null,
      "outputs": [
        {
          "output_type": "execute_result",
          "data": {
            "application/vnd.google.colaboratory.intrinsic+json": {
              "type": "string"
            },
            "text/plain": [
              "\"df['PatientAge'] = df['PatientAge'].astype(str)\\ndf['PatientSex'] = df['PatientSex'].astype(str)\\ndf['PatientName'] = df['PatientAge'].astype(str)\\ndf['PatientSex'] = df['PatientSex'].astype(str)\\n\\ndf['Procedure'] = df['Procedure'].astype(str)\""
            ]
          },
          "metadata": {
            "tags": []
          },
          "execution_count": 9
        }
      ]
    },
    {
      "cell_type": "code",
      "metadata": {
        "id": "i8Gy35o5pgqp",
        "colab": {
          "base_uri": "https://localhost:8080/"
        },
        "outputId": "b35ad9a1-e157-483e-9800-991b608c21da"
      },
      "source": [
        "df = df.drop('PatientName', axis=1)\n",
        "df = df.drop('score_covid', axis=1)\n",
        "df = df.drop('label_covid', axis=1)\n",
        "#df.to_csv('edited_metadata.csv')\n",
        "df.shape"
      ],
      "execution_count": null,
      "outputs": [
        {
          "output_type": "execute_result",
          "data": {
            "text/plain": [
              "(810, 6)"
            ]
          },
          "metadata": {
            "tags": []
          },
          "execution_count": 10
        }
      ]
    },
    {
      "cell_type": "markdown",
      "metadata": {
        "id": "B4kOgNCaTRpD"
      },
      "source": [
        "## Data EDA\n",
        "\n",
        "__Based on score__\n"
      ]
    },
    {
      "cell_type": "code",
      "metadata": {
        "ExecuteTime": {
          "end_time": "2020-08-18T18:07:31.199945Z",
          "start_time": "2020-08-18T18:07:31.173293Z"
        },
        "id": "qo3CqfdOTRpE"
      },
      "source": [
        "aq_palette = sns.diverging_palette(225, 35, n=2)"
      ],
      "execution_count": null,
      "outputs": []
    },
    {
      "cell_type": "code",
      "metadata": {
        "colab": {
          "base_uri": "https://localhost:8080/",
          "height": 279
        },
        "id": "0P3Y2QDnVoje",
        "outputId": "abe72323-abf4-4572-d561-6b34cd71afcd"
      },
      "source": [
        "by_sex = sns.countplot(x=\"PatientSex\", hue=\"score\", data=df, palette=aq_palette)"
      ],
      "execution_count": null,
      "outputs": [
        {
          "output_type": "display_data",
          "data": {
            "image/png": "[encoded data removed]",
            "text/plain": [
              "<Figure size 432x288 with 1 Axes>"
            ]
          },
          "metadata": {
            "tags": [],
            "needs_background": "light"
          }
        }
      ]
    },
    {
      "cell_type": "code",
      "metadata": {
        "ExecuteTime": {
          "end_time": "2020-08-18T18:07:31.652368Z",
          "start_time": "2020-08-18T18:07:31.202936Z"
        },
        "colab": {
          "base_uri": "https://localhost:8080/",
          "height": 279
        },
        "id": "ImriwEqhTRpF",
        "outputId": "7256e130-ae3e-413c-a7e3-000f7a5b0231"
      },
      "source": [
        "by_sex = sns.countplot(x=\"PatientSex\", hue=\"score\", data=df[df.PatientSex.isin(['M', 'F'])], palette=aq_palette)"
      ],
      "execution_count": null,
      "outputs": [
        {
          "output_type": "display_data",
          "data": {
            "image/png": "[encoded data removed]",
            "text/plain": [
              "<Figure size 432x288 with 1 Axes>"
            ]
          },
          "metadata": {
            "tags": [],
            "needs_background": "light"
          }
        }
      ]
    },
    {
      "cell_type": "code",
      "metadata": {
        "colab": {
          "base_uri": "https://localhost:8080/",
          "height": 279
        },
        "id": "TMq56cFPjZ6f",
        "outputId": "98245e84-8876-4c10-c510-8a0cbb1419e1"
      },
      "source": [
        "by_sex = sns.countplot(x=\"PatientSex\", hue=\"score\", data=df, palette=aq_palette)"
      ],
      "execution_count": null,
      "outputs": [
        {
          "output_type": "display_data",
          "data": {
            "image/png": "[encoded data removed]",
            "text/plain": [
              "<Figure size 432x288 with 1 Axes>"
            ]
          },
          "metadata": {
            "tags": [],
            "needs_background": "light"
          }
        }
      ]
    },
    {
      "cell_type": "code",
      "metadata": {
        "ExecuteTime": {
          "end_time": "2020-08-18T18:07:31.950242Z",
          "start_time": "2020-08-18T18:07:31.655842Z"
        },
        "colab": {
          "base_uri": "https://localhost:8080/",
          "height": 280
        },
        "id": "wuaNAy0dTRpF",
        "outputId": "8bdaf86b-1f30-4f46-cb2f-470b9cf50753"
      },
      "source": [
        "by_age = sns.countplot(x=\"PatientAge\", hue=\"score\", data=df, palette=aq_palette)"
      ],
      "execution_count": null,
      "outputs": [
        {
          "output_type": "display_data",
          "data": {
            "image/png": "[encoded data removed]",
            "text/plain": [
              "<Figure size 432x288 with 1 Axes>"
            ]
          },
          "metadata": {
            "tags": [],
            "needs_background": "light"
          }
        }
      ]
    },
    {
      "cell_type": "code",
      "metadata": {
        "colab": {
          "base_uri": "https://localhost:8080/",
          "height": 279
        },
        "id": "2h10QeTv1LBi",
        "outputId": "967992bb-474f-4975-c9ac-c4c4448a3694"
      },
      "source": [
        "by_procedure = sns.countplot(x=\"Procedure\", hue=\"score\", data=df, palette=aq_palette)"
      ],
      "execution_count": null,
      "outputs": [
        {
          "output_type": "display_data",
          "data": {
            "image/png": "[encoded data removed]",
            "text/plain": [
              "<Figure size 432x288 with 1 Axes>"
            ]
          },
          "metadata": {
            "tags": [],
            "needs_background": "light"
          }
        }
      ]
    },
    {
      "cell_type": "markdown",
      "metadata": {
        "id": "9jCGC_66TRpG"
      },
      "source": [
        "**Based on Label_value**\n",
        "\n",
        "\n"
      ]
    },
    {
      "cell_type": "code",
      "metadata": {
        "ExecuteTime": {
          "end_time": "2020-08-18T18:07:32.797684Z",
          "start_time": "2020-08-18T18:07:32.542814Z"
        },
        "colab": {
          "base_uri": "https://localhost:8080/",
          "height": 280
        },
        "id": "g-RRH8acTRpJ",
        "outputId": "0ddae7c2-433f-4ffb-b1aa-f32560e47582"
      },
      "source": [
        "label_by_age = sns.countplot(x=\"PatientAge\", hue=\"label_value\",  data=df[df.PatientAge.isin(['old_age', 'adult' , 'child'])], palette=aq_palette)"
      ],
      "execution_count": null,
      "outputs": [
        {
          "output_type": "display_data",
          "data": {
            "image/png": "[encoded data removed]",
            "text/plain": [
              "<Figure size 432x288 with 1 Axes>"
            ]
          },
          "metadata": {
            "tags": [],
            "needs_background": "light"
          }
        }
      ]
    },
    {
      "cell_type": "code",
      "metadata": {
        "ExecuteTime": {
          "end_time": "2020-08-18T18:07:33.076512Z",
          "start_time": "2020-08-18T18:07:32.801014Z"
        },
        "colab": {
          "base_uri": "https://localhost:8080/",
          "height": 279
        },
        "id": "eHtLOaXATRpK",
        "outputId": "2a2105ca-4c39-4c49-9255-a30b7e0ef76a"
      },
      "source": [
        "label_by_sex = sns.countplot(x=\"PatientSex\", hue=\"label_value\", data=df[df.PatientSex.isin(['M', 'F'])], palette=aq_palette)"
      ],
      "execution_count": null,
      "outputs": [
        {
          "output_type": "display_data",
          "data": {
            "image/png": "[encoded data removed]",
            "text/plain": [
              "<Figure size 432x288 with 1 Axes>"
            ]
          },
          "metadata": {
            "tags": [],
            "needs_background": "light"
          }
        }
      ]
    },
    {
      "cell_type": "code",
      "metadata": {
        "colab": {
          "base_uri": "https://localhost:8080/",
          "height": 279
        },
        "id": "DFdK-tCHjj2d",
        "outputId": "c3137e3d-7be1-4973-f15d-e451418cb95b"
      },
      "source": [
        "label_by_sex = sns.countplot(x=\"PatientSex\", hue=\"label_value\", data=df, palette=aq_palette)"
      ],
      "execution_count": null,
      "outputs": [
        {
          "output_type": "display_data",
          "data": {
            "image/png": "[encoded data removed]",
            "text/plain": [
              "<Figure size 432x288 with 1 Axes>"
            ]
          },
          "metadata": {
            "tags": [],
            "needs_background": "light"
          }
        }
      ]
    },
    {
      "cell_type": "code",
      "metadata": {
        "ExecuteTime": {
          "end_time": "2020-08-18T18:07:32.534272Z",
          "start_time": "2020-08-18T18:07:32.234958Z"
        },
        "colab": {
          "base_uri": "https://localhost:8080/",
          "height": 279
        },
        "id": "2VB4_hioTRpH",
        "outputId": "a5b7cb81-ee6c-408c-c5f9-8210053f0482"
      },
      "source": [
        "label_by_procedure = sns.countplot(x=\"Procedure\", hue=\"label_value\", data=df[df.Procedure.isin(['other', 'PA' , 'AP'])], palette=aq_palette)"
      ],
      "execution_count": null,
      "outputs": [
        {
          "output_type": "display_data",
          "data": {
            "image/png": "[encoded data removed]",
            "text/plain": [
              "<Figure size 432x288 with 1 Axes>"
            ]
          },
          "metadata": {
            "tags": [],
            "needs_background": "light"
          }
        }
      ]
    },
    {
      "cell_type": "markdown",
      "metadata": {
        "id": "HTbdd2F5TRpK"
      },
      "source": [
        "\n",
        "# Biases?"
      ]
    },
    {
      "cell_type": "markdown",
      "metadata": {
        "id": "L_KND9EcTRpL"
      },
      "source": [
        "\n",
        "The **`get_crosstabs()`** method tabulates a confusion matrix for each subgroup and calculates commonly used metrics such as false positive rate and false omission rate. It also provides counts by group and group prevelances.\n",
        "\n",
        "Group Counts Calculated:\n",
        "\n",
        "| Count Type | Column Name |\n",
        "| --- | --- |\n",
        "| False Positive Count | 'fp' |\n",
        "| False Negative Count | 'fn' |\n",
        "| True Negative Count | 'tn' |\n",
        "| True Positive Count | 'tp' |\n",
        "| Predicted Positive Count | 'pp' |\n",
        "| Predicted Negative Count | 'pn' |\n",
        "| Count of Negative Labels in Group | 'group_label_neg' |\n",
        "| Count of Positive Labels in Group | 'group_label_pos' | \n",
        "| Group Size | 'group_size'|\n",
        "| Total Entities | 'total_entities' |\n",
        "\n",
        "Absolute Metrics Calculated:\n",
        "\n",
        "| Metric | Column Name |\n",
        "| --- | --- |\n",
        "| True Positive Rate | 'tpr' |\n",
        "| True Negative Rate | 'tnr' |\n",
        "| False Omission Rate | 'for' |\n",
        "| False Discovery Rate | 'fdr' |\n",
        "| False Positive Rate | 'fpr' |\n",
        "| False Negative Rate | 'fnr' |\n",
        "| Negative Predictive Value | 'npv' |\n",
        "| Precision | 'precision' |\n",
        "| Predicted Positive Ratio$_k$ | 'ppr' |\n",
        "| Predicted Positive Ratio$_g$ | 'pprev' |\n",
        "| Group Prevalence | 'prev' |\n"
      ]
    },
    {
      "cell_type": "markdown",
      "metadata": {
        "id": "1WgatVimGkQW"
      },
      "source": [
        "- Predicted Positive Group Rate Disparity (pprev), \n",
        "- Predicted Positive Rate Disparity (ppr),  \n",
        "- False Discovery Rate (fdr), \n",
        "- False Omission Rate (for)\n",
        "- False Positive Rate (fpr)\n",
        "- False Negative Rate (fnr)"
      ]
    },
    {
      "cell_type": "code",
      "metadata": {
        "ExecuteTime": {
          "end_time": "2020-08-18T18:07:33.893916Z",
          "start_time": "2020-08-18T18:07:33.081651Z"
        },
        "id": "dUEBjjrATRpL",
        "colab": {
          "base_uri": "https://localhost:8080/",
          "height": 301
        },
        "outputId": "ba91b40a-b754-4d62-f84f-15527ac2b338"
      },
      "source": [
        "#from aequitas.preprocessing import preprocess_input_df\n",
        "#df, _ = preprocess_input_df(df)\n",
        "g = Group()\n",
        "xtab, _ = g.get_crosstabs(df)\n",
        "\n",
        "xtab.round(2)"
      ],
      "execution_count": null,
      "outputs": [
        {
          "output_type": "execute_result",
          "data": {
            "text/html": [
              "<div>\n",
              "<style scoped>\n",
              "    .dataframe tbody tr th:only-of-type {\n",
              "        vertical-align: middle;\n",
              "    }\n",
              "\n",
              "    .dataframe tbody tr th {\n",
              "        vertical-align: top;\n",
              "    }\n",
              "\n",
              "    .dataframe thead th {\n",
              "        text-align: right;\n",
              "    }\n",
              "</style>\n",
              "<table border=\"1\" class=\"dataframe\">\n",
              "  <thead>\n",
              "    <tr style=\"text-align: right;\">\n",
              "      <th></th>\n",
              "      <th>model_id</th>\n",
              "      <th>score_threshold</th>\n",
              "      <th>k</th>\n",
              "      <th>attribute_name</th>\n",
              "      <th>attribute_value</th>\n",
              "      <th>tpr</th>\n",
              "      <th>tnr</th>\n",
              "      <th>for</th>\n",
              "      <th>fdr</th>\n",
              "      <th>fpr</th>\n",
              "      <th>fnr</th>\n",
              "      <th>npv</th>\n",
              "      <th>precision</th>\n",
              "      <th>pp</th>\n",
              "      <th>pn</th>\n",
              "      <th>ppr</th>\n",
              "      <th>pprev</th>\n",
              "      <th>fp</th>\n",
              "      <th>fn</th>\n",
              "      <th>tn</th>\n",
              "      <th>tp</th>\n",
              "      <th>group_label_pos</th>\n",
              "      <th>group_label_neg</th>\n",
              "      <th>group_size</th>\n",
              "      <th>total_entities</th>\n",
              "      <th>prev</th>\n",
              "    </tr>\n",
              "  </thead>\n",
              "  <tbody>\n",
              "    <tr>\n",
              "      <th>0</th>\n",
              "      <td>0</td>\n",
              "      <td>binary 0/1</td>\n",
              "      <td>269</td>\n",
              "      <td>Procedure</td>\n",
              "      <td>AP</td>\n",
              "      <td>0.15</td>\n",
              "      <td>0.36</td>\n",
              "      <td>0.83</td>\n",
              "      <td>0.68</td>\n",
              "      <td>0.64</td>\n",
              "      <td>0.85</td>\n",
              "      <td>0.17</td>\n",
              "      <td>0.32</td>\n",
              "      <td>181</td>\n",
              "      <td>403</td>\n",
              "      <td>0.67</td>\n",
              "      <td>0.31</td>\n",
              "      <td>123</td>\n",
              "      <td>334</td>\n",
              "      <td>69</td>\n",
              "      <td>58</td>\n",
              "      <td>392</td>\n",
              "      <td>192</td>\n",
              "      <td>584</td>\n",
              "      <td>810</td>\n",
              "      <td>0.67</td>\n",
              "    </tr>\n",
              "    <tr>\n",
              "      <th>1</th>\n",
              "      <td>0</td>\n",
              "      <td>binary 0/1</td>\n",
              "      <td>269</td>\n",
              "      <td>Procedure</td>\n",
              "      <td>PA</td>\n",
              "      <td>0.13</td>\n",
              "      <td>0.22</td>\n",
              "      <td>0.86</td>\n",
              "      <td>0.81</td>\n",
              "      <td>0.78</td>\n",
              "      <td>0.87</td>\n",
              "      <td>0.14</td>\n",
              "      <td>0.19</td>\n",
              "      <td>88</td>\n",
              "      <td>138</td>\n",
              "      <td>0.33</td>\n",
              "      <td>0.39</td>\n",
              "      <td>71</td>\n",
              "      <td>118</td>\n",
              "      <td>20</td>\n",
              "      <td>17</td>\n",
              "      <td>135</td>\n",
              "      <td>91</td>\n",
              "      <td>226</td>\n",
              "      <td>810</td>\n",
              "      <td>0.60</td>\n",
              "    </tr>\n",
              "    <tr>\n",
              "      <th>2</th>\n",
              "      <td>0</td>\n",
              "      <td>binary 0/1</td>\n",
              "      <td>269</td>\n",
              "      <td>PatientAge</td>\n",
              "      <td>adult</td>\n",
              "      <td>0.16</td>\n",
              "      <td>0.22</td>\n",
              "      <td>0.82</td>\n",
              "      <td>0.81</td>\n",
              "      <td>0.78</td>\n",
              "      <td>0.84</td>\n",
              "      <td>0.18</td>\n",
              "      <td>0.19</td>\n",
              "      <td>108</td>\n",
              "      <td>131</td>\n",
              "      <td>0.40</td>\n",
              "      <td>0.45</td>\n",
              "      <td>87</td>\n",
              "      <td>107</td>\n",
              "      <td>24</td>\n",
              "      <td>21</td>\n",
              "      <td>128</td>\n",
              "      <td>111</td>\n",
              "      <td>239</td>\n",
              "      <td>810</td>\n",
              "      <td>0.54</td>\n",
              "    </tr>\n",
              "    <tr>\n",
              "      <th>3</th>\n",
              "      <td>0</td>\n",
              "      <td>binary 0/1</td>\n",
              "      <td>269</td>\n",
              "      <td>PatientAge</td>\n",
              "      <td>child</td>\n",
              "      <td>0.08</td>\n",
              "      <td>0.19</td>\n",
              "      <td>0.90</td>\n",
              "      <td>0.83</td>\n",
              "      <td>0.81</td>\n",
              "      <td>0.92</td>\n",
              "      <td>0.10</td>\n",
              "      <td>0.17</td>\n",
              "      <td>30</td>\n",
              "      <td>60</td>\n",
              "      <td>0.11</td>\n",
              "      <td>0.33</td>\n",
              "      <td>25</td>\n",
              "      <td>54</td>\n",
              "      <td>6</td>\n",
              "      <td>5</td>\n",
              "      <td>59</td>\n",
              "      <td>31</td>\n",
              "      <td>90</td>\n",
              "      <td>810</td>\n",
              "      <td>0.66</td>\n",
              "    </tr>\n",
              "    <tr>\n",
              "      <th>4</th>\n",
              "      <td>0</td>\n",
              "      <td>binary 0/1</td>\n",
              "      <td>269</td>\n",
              "      <td>PatientAge</td>\n",
              "      <td>old_age</td>\n",
              "      <td>0.14</td>\n",
              "      <td>0.42</td>\n",
              "      <td>0.83</td>\n",
              "      <td>0.63</td>\n",
              "      <td>0.58</td>\n",
              "      <td>0.86</td>\n",
              "      <td>0.17</td>\n",
              "      <td>0.37</td>\n",
              "      <td>131</td>\n",
              "      <td>350</td>\n",
              "      <td>0.49</td>\n",
              "      <td>0.27</td>\n",
              "      <td>82</td>\n",
              "      <td>291</td>\n",
              "      <td>59</td>\n",
              "      <td>49</td>\n",
              "      <td>340</td>\n",
              "      <td>141</td>\n",
              "      <td>481</td>\n",
              "      <td>810</td>\n",
              "      <td>0.71</td>\n",
              "    </tr>\n",
              "    <tr>\n",
              "      <th>5</th>\n",
              "      <td>0</td>\n",
              "      <td>binary 0/1</td>\n",
              "      <td>269</td>\n",
              "      <td>PatientSex</td>\n",
              "      <td>F</td>\n",
              "      <td>0.18</td>\n",
              "      <td>0.28</td>\n",
              "      <td>0.85</td>\n",
              "      <td>0.68</td>\n",
              "      <td>0.72</td>\n",
              "      <td>0.82</td>\n",
              "      <td>0.15</td>\n",
              "      <td>0.32</td>\n",
              "      <td>102</td>\n",
              "      <td>180</td>\n",
              "      <td>0.38</td>\n",
              "      <td>0.36</td>\n",
              "      <td>69</td>\n",
              "      <td>153</td>\n",
              "      <td>27</td>\n",
              "      <td>33</td>\n",
              "      <td>186</td>\n",
              "      <td>96</td>\n",
              "      <td>282</td>\n",
              "      <td>810</td>\n",
              "      <td>0.66</td>\n",
              "    </tr>\n",
              "    <tr>\n",
              "      <th>6</th>\n",
              "      <td>0</td>\n",
              "      <td>binary 0/1</td>\n",
              "      <td>269</td>\n",
              "      <td>PatientSex</td>\n",
              "      <td>M</td>\n",
              "      <td>0.12</td>\n",
              "      <td>0.33</td>\n",
              "      <td>0.83</td>\n",
              "      <td>0.75</td>\n",
              "      <td>0.67</td>\n",
              "      <td>0.88</td>\n",
              "      <td>0.17</td>\n",
              "      <td>0.25</td>\n",
              "      <td>161</td>\n",
              "      <td>350</td>\n",
              "      <td>0.60</td>\n",
              "      <td>0.32</td>\n",
              "      <td>120</td>\n",
              "      <td>290</td>\n",
              "      <td>60</td>\n",
              "      <td>41</td>\n",
              "      <td>331</td>\n",
              "      <td>180</td>\n",
              "      <td>511</td>\n",
              "      <td>810</td>\n",
              "      <td>0.65</td>\n",
              "    </tr>\n",
              "    <tr>\n",
              "      <th>7</th>\n",
              "      <td>0</td>\n",
              "      <td>binary 0/1</td>\n",
              "      <td>269</td>\n",
              "      <td>PatientSex</td>\n",
              "      <td>other</td>\n",
              "      <td>0.10</td>\n",
              "      <td>0.29</td>\n",
              "      <td>0.82</td>\n",
              "      <td>0.83</td>\n",
              "      <td>0.71</td>\n",
              "      <td>0.90</td>\n",
              "      <td>0.18</td>\n",
              "      <td>0.17</td>\n",
              "      <td>6</td>\n",
              "      <td>11</td>\n",
              "      <td>0.02</td>\n",
              "      <td>0.35</td>\n",
              "      <td>5</td>\n",
              "      <td>9</td>\n",
              "      <td>2</td>\n",
              "      <td>1</td>\n",
              "      <td>10</td>\n",
              "      <td>7</td>\n",
              "      <td>17</td>\n",
              "      <td>810</td>\n",
              "      <td>0.59</td>\n",
              "    </tr>\n",
              "  </tbody>\n",
              "</table>\n",
              "</div>"
            ],
            "text/plain": [
              "   model_id score_threshold    k  ... group_size total_entities  prev\n",
              "0         0      binary 0/1  269  ...        584            810  0.67\n",
              "1         0      binary 0/1  269  ...        226            810  0.60\n",
              "2         0      binary 0/1  269  ...        239            810  0.54\n",
              "3         0      binary 0/1  269  ...         90            810  0.66\n",
              "4         0      binary 0/1  269  ...        481            810  0.71\n",
              "5         0      binary 0/1  269  ...        282            810  0.66\n",
              "6         0      binary 0/1  269  ...        511            810  0.65\n",
              "7         0      binary 0/1  269  ...         17            810  0.59\n",
              "\n",
              "[8 rows x 26 columns]"
            ]
          },
          "metadata": {
            "tags": []
          },
          "execution_count": 21
        }
      ]
    },
    {
      "cell_type": "code",
      "metadata": {
        "ExecuteTime": {
          "end_time": "2020-08-18T18:07:33.902622Z",
          "start_time": "2020-08-18T18:07:33.896112Z"
        },
        "id": "H9dCm7L7TRpR",
        "colab": {
          "base_uri": "https://localhost:8080/",
          "height": 301
        },
        "outputId": "d88d77ad-a11e-4ec8-9f71-2f21637d3ef2"
      },
      "source": [
        "#### Choosing few metrics\n",
        "absolute_metrics = g.list_absolute_metrics(xtab)\n",
        "xtab[[col for col in xtab.columns if col not in absolute_metrics]]  #View calculated counts across sample population groups"
      ],
      "execution_count": null,
      "outputs": [
        {
          "output_type": "execute_result",
          "data": {
            "text/html": [
              "<div>\n",
              "<style scoped>\n",
              "    .dataframe tbody tr th:only-of-type {\n",
              "        vertical-align: middle;\n",
              "    }\n",
              "\n",
              "    .dataframe tbody tr th {\n",
              "        vertical-align: top;\n",
              "    }\n",
              "\n",
              "    .dataframe thead th {\n",
              "        text-align: right;\n",
              "    }\n",
              "</style>\n",
              "<table border=\"1\" class=\"dataframe\">\n",
              "  <thead>\n",
              "    <tr style=\"text-align: right;\">\n",
              "      <th></th>\n",
              "      <th>model_id</th>\n",
              "      <th>score_threshold</th>\n",
              "      <th>k</th>\n",
              "      <th>attribute_name</th>\n",
              "      <th>attribute_value</th>\n",
              "      <th>pp</th>\n",
              "      <th>pn</th>\n",
              "      <th>fp</th>\n",
              "      <th>fn</th>\n",
              "      <th>tn</th>\n",
              "      <th>tp</th>\n",
              "      <th>group_label_pos</th>\n",
              "      <th>group_label_neg</th>\n",
              "      <th>group_size</th>\n",
              "      <th>total_entities</th>\n",
              "    </tr>\n",
              "  </thead>\n",
              "  <tbody>\n",
              "    <tr>\n",
              "      <th>0</th>\n",
              "      <td>0</td>\n",
              "      <td>binary 0/1</td>\n",
              "      <td>269</td>\n",
              "      <td>Procedure</td>\n",
              "      <td>AP</td>\n",
              "      <td>181</td>\n",
              "      <td>403</td>\n",
              "      <td>123</td>\n",
              "      <td>334</td>\n",
              "      <td>69</td>\n",
              "      <td>58</td>\n",
              "      <td>392</td>\n",
              "      <td>192</td>\n",
              "      <td>584</td>\n",
              "      <td>810</td>\n",
              "    </tr>\n",
              "    <tr>\n",
              "      <th>1</th>\n",
              "      <td>0</td>\n",
              "      <td>binary 0/1</td>\n",
              "      <td>269</td>\n",
              "      <td>Procedure</td>\n",
              "      <td>PA</td>\n",
              "      <td>88</td>\n",
              "      <td>138</td>\n",
              "      <td>71</td>\n",
              "      <td>118</td>\n",
              "      <td>20</td>\n",
              "      <td>17</td>\n",
              "      <td>135</td>\n",
              "      <td>91</td>\n",
              "      <td>226</td>\n",
              "      <td>810</td>\n",
              "    </tr>\n",
              "    <tr>\n",
              "      <th>2</th>\n",
              "      <td>0</td>\n",
              "      <td>binary 0/1</td>\n",
              "      <td>269</td>\n",
              "      <td>PatientAge</td>\n",
              "      <td>adult</td>\n",
              "      <td>108</td>\n",
              "      <td>131</td>\n",
              "      <td>87</td>\n",
              "      <td>107</td>\n",
              "      <td>24</td>\n",
              "      <td>21</td>\n",
              "      <td>128</td>\n",
              "      <td>111</td>\n",
              "      <td>239</td>\n",
              "      <td>810</td>\n",
              "    </tr>\n",
              "    <tr>\n",
              "      <th>3</th>\n",
              "      <td>0</td>\n",
              "      <td>binary 0/1</td>\n",
              "      <td>269</td>\n",
              "      <td>PatientAge</td>\n",
              "      <td>child</td>\n",
              "      <td>30</td>\n",
              "      <td>60</td>\n",
              "      <td>25</td>\n",
              "      <td>54</td>\n",
              "      <td>6</td>\n",
              "      <td>5</td>\n",
              "      <td>59</td>\n",
              "      <td>31</td>\n",
              "      <td>90</td>\n",
              "      <td>810</td>\n",
              "    </tr>\n",
              "    <tr>\n",
              "      <th>4</th>\n",
              "      <td>0</td>\n",
              "      <td>binary 0/1</td>\n",
              "      <td>269</td>\n",
              "      <td>PatientAge</td>\n",
              "      <td>old_age</td>\n",
              "      <td>131</td>\n",
              "      <td>350</td>\n",
              "      <td>82</td>\n",
              "      <td>291</td>\n",
              "      <td>59</td>\n",
              "      <td>49</td>\n",
              "      <td>340</td>\n",
              "      <td>141</td>\n",
              "      <td>481</td>\n",
              "      <td>810</td>\n",
              "    </tr>\n",
              "    <tr>\n",
              "      <th>5</th>\n",
              "      <td>0</td>\n",
              "      <td>binary 0/1</td>\n",
              "      <td>269</td>\n",
              "      <td>PatientSex</td>\n",
              "      <td>F</td>\n",
              "      <td>102</td>\n",
              "      <td>180</td>\n",
              "      <td>69</td>\n",
              "      <td>153</td>\n",
              "      <td>27</td>\n",
              "      <td>33</td>\n",
              "      <td>186</td>\n",
              "      <td>96</td>\n",
              "      <td>282</td>\n",
              "      <td>810</td>\n",
              "    </tr>\n",
              "    <tr>\n",
              "      <th>6</th>\n",
              "      <td>0</td>\n",
              "      <td>binary 0/1</td>\n",
              "      <td>269</td>\n",
              "      <td>PatientSex</td>\n",
              "      <td>M</td>\n",
              "      <td>161</td>\n",
              "      <td>350</td>\n",
              "      <td>120</td>\n",
              "      <td>290</td>\n",
              "      <td>60</td>\n",
              "      <td>41</td>\n",
              "      <td>331</td>\n",
              "      <td>180</td>\n",
              "      <td>511</td>\n",
              "      <td>810</td>\n",
              "    </tr>\n",
              "    <tr>\n",
              "      <th>7</th>\n",
              "      <td>0</td>\n",
              "      <td>binary 0/1</td>\n",
              "      <td>269</td>\n",
              "      <td>PatientSex</td>\n",
              "      <td>other</td>\n",
              "      <td>6</td>\n",
              "      <td>11</td>\n",
              "      <td>5</td>\n",
              "      <td>9</td>\n",
              "      <td>2</td>\n",
              "      <td>1</td>\n",
              "      <td>10</td>\n",
              "      <td>7</td>\n",
              "      <td>17</td>\n",
              "      <td>810</td>\n",
              "    </tr>\n",
              "  </tbody>\n",
              "</table>\n",
              "</div>"
            ],
            "text/plain": [
              "   model_id score_threshold    k  ... group_label_neg group_size  total_entities\n",
              "0         0      binary 0/1  269  ...             192        584             810\n",
              "1         0      binary 0/1  269  ...              91        226             810\n",
              "2         0      binary 0/1  269  ...             111        239             810\n",
              "3         0      binary 0/1  269  ...              31         90             810\n",
              "4         0      binary 0/1  269  ...             141        481             810\n",
              "5         0      binary 0/1  269  ...              96        282             810\n",
              "6         0      binary 0/1  269  ...             180        511             810\n",
              "7         0      binary 0/1  269  ...               7         17             810\n",
              "\n",
              "[8 rows x 15 columns]"
            ]
          },
          "metadata": {
            "tags": []
          },
          "execution_count": 22
        }
      ]
    },
    {
      "cell_type": "code",
      "metadata": {
        "ExecuteTime": {
          "end_time": "2020-08-18T18:07:34.048216Z",
          "start_time": "2020-08-18T18:07:33.972812Z"
        },
        "colab": {
          "base_uri": "https://localhost:8080/",
          "height": 301
        },
        "id": "z-G-UIAJTRpS",
        "outputId": "db8fbb35-2914-49b7-f228-745223dd8f08"
      },
      "source": [
        "#View calculated absolute metrics for each sample population group\n",
        "xtab[['attribute_name', 'attribute_value'] + absolute_metrics].round(2)"
      ],
      "execution_count": null,
      "outputs": [
        {
          "output_type": "execute_result",
          "data": {
            "text/html": [
              "<div>\n",
              "<style scoped>\n",
              "    .dataframe tbody tr th:only-of-type {\n",
              "        vertical-align: middle;\n",
              "    }\n",
              "\n",
              "    .dataframe tbody tr th {\n",
              "        vertical-align: top;\n",
              "    }\n",
              "\n",
              "    .dataframe thead th {\n",
              "        text-align: right;\n",
              "    }\n",
              "</style>\n",
              "<table border=\"1\" class=\"dataframe\">\n",
              "  <thead>\n",
              "    <tr style=\"text-align: right;\">\n",
              "      <th></th>\n",
              "      <th>attribute_name</th>\n",
              "      <th>attribute_value</th>\n",
              "      <th>tpr</th>\n",
              "      <th>tnr</th>\n",
              "      <th>for</th>\n",
              "      <th>fdr</th>\n",
              "      <th>fpr</th>\n",
              "      <th>fnr</th>\n",
              "      <th>npv</th>\n",
              "      <th>precision</th>\n",
              "      <th>ppr</th>\n",
              "      <th>pprev</th>\n",
              "      <th>prev</th>\n",
              "    </tr>\n",
              "  </thead>\n",
              "  <tbody>\n",
              "    <tr>\n",
              "      <th>0</th>\n",
              "      <td>Procedure</td>\n",
              "      <td>AP</td>\n",
              "      <td>0.15</td>\n",
              "      <td>0.36</td>\n",
              "      <td>0.83</td>\n",
              "      <td>0.68</td>\n",
              "      <td>0.64</td>\n",
              "      <td>0.85</td>\n",
              "      <td>0.17</td>\n",
              "      <td>0.32</td>\n",
              "      <td>0.67</td>\n",
              "      <td>0.31</td>\n",
              "      <td>0.67</td>\n",
              "    </tr>\n",
              "    <tr>\n",
              "      <th>1</th>\n",
              "      <td>Procedure</td>\n",
              "      <td>PA</td>\n",
              "      <td>0.13</td>\n",
              "      <td>0.22</td>\n",
              "      <td>0.86</td>\n",
              "      <td>0.81</td>\n",
              "      <td>0.78</td>\n",
              "      <td>0.87</td>\n",
              "      <td>0.14</td>\n",
              "      <td>0.19</td>\n",
              "      <td>0.33</td>\n",
              "      <td>0.39</td>\n",
              "      <td>0.60</td>\n",
              "    </tr>\n",
              "    <tr>\n",
              "      <th>2</th>\n",
              "      <td>PatientAge</td>\n",
              "      <td>adult</td>\n",
              "      <td>0.16</td>\n",
              "      <td>0.22</td>\n",
              "      <td>0.82</td>\n",
              "      <td>0.81</td>\n",
              "      <td>0.78</td>\n",
              "      <td>0.84</td>\n",
              "      <td>0.18</td>\n",
              "      <td>0.19</td>\n",
              "      <td>0.40</td>\n",
              "      <td>0.45</td>\n",
              "      <td>0.54</td>\n",
              "    </tr>\n",
              "    <tr>\n",
              "      <th>3</th>\n",
              "      <td>PatientAge</td>\n",
              "      <td>child</td>\n",
              "      <td>0.08</td>\n",
              "      <td>0.19</td>\n",
              "      <td>0.90</td>\n",
              "      <td>0.83</td>\n",
              "      <td>0.81</td>\n",
              "      <td>0.92</td>\n",
              "      <td>0.10</td>\n",
              "      <td>0.17</td>\n",
              "      <td>0.11</td>\n",
              "      <td>0.33</td>\n",
              "      <td>0.66</td>\n",
              "    </tr>\n",
              "    <tr>\n",
              "      <th>4</th>\n",
              "      <td>PatientAge</td>\n",
              "      <td>old_age</td>\n",
              "      <td>0.14</td>\n",
              "      <td>0.42</td>\n",
              "      <td>0.83</td>\n",
              "      <td>0.63</td>\n",
              "      <td>0.58</td>\n",
              "      <td>0.86</td>\n",
              "      <td>0.17</td>\n",
              "      <td>0.37</td>\n",
              "      <td>0.49</td>\n",
              "      <td>0.27</td>\n",
              "      <td>0.71</td>\n",
              "    </tr>\n",
              "    <tr>\n",
              "      <th>5</th>\n",
              "      <td>PatientSex</td>\n",
              "      <td>F</td>\n",
              "      <td>0.18</td>\n",
              "      <td>0.28</td>\n",
              "      <td>0.85</td>\n",
              "      <td>0.68</td>\n",
              "      <td>0.72</td>\n",
              "      <td>0.82</td>\n",
              "      <td>0.15</td>\n",
              "      <td>0.32</td>\n",
              "      <td>0.38</td>\n",
              "      <td>0.36</td>\n",
              "      <td>0.66</td>\n",
              "    </tr>\n",
              "    <tr>\n",
              "      <th>6</th>\n",
              "      <td>PatientSex</td>\n",
              "      <td>M</td>\n",
              "      <td>0.12</td>\n",
              "      <td>0.33</td>\n",
              "      <td>0.83</td>\n",
              "      <td>0.75</td>\n",
              "      <td>0.67</td>\n",
              "      <td>0.88</td>\n",
              "      <td>0.17</td>\n",
              "      <td>0.25</td>\n",
              "      <td>0.60</td>\n",
              "      <td>0.32</td>\n",
              "      <td>0.65</td>\n",
              "    </tr>\n",
              "    <tr>\n",
              "      <th>7</th>\n",
              "      <td>PatientSex</td>\n",
              "      <td>other</td>\n",
              "      <td>0.10</td>\n",
              "      <td>0.29</td>\n",
              "      <td>0.82</td>\n",
              "      <td>0.83</td>\n",
              "      <td>0.71</td>\n",
              "      <td>0.90</td>\n",
              "      <td>0.18</td>\n",
              "      <td>0.17</td>\n",
              "      <td>0.02</td>\n",
              "      <td>0.35</td>\n",
              "      <td>0.59</td>\n",
              "    </tr>\n",
              "  </tbody>\n",
              "</table>\n",
              "</div>"
            ],
            "text/plain": [
              "  attribute_name attribute_value   tpr   tnr  ...  precision   ppr  pprev  prev\n",
              "0      Procedure              AP  0.15  0.36  ...       0.32  0.67   0.31  0.67\n",
              "1      Procedure              PA  0.13  0.22  ...       0.19  0.33   0.39  0.60\n",
              "2     PatientAge           adult  0.16  0.22  ...       0.19  0.40   0.45  0.54\n",
              "3     PatientAge           child  0.08  0.19  ...       0.17  0.11   0.33  0.66\n",
              "4     PatientAge         old_age  0.14  0.42  ...       0.37  0.49   0.27  0.71\n",
              "5     PatientSex               F  0.18  0.28  ...       0.32  0.38   0.36  0.66\n",
              "6     PatientSex               M  0.12  0.33  ...       0.25  0.60   0.32  0.65\n",
              "7     PatientSex           other  0.10  0.29  ...       0.17  0.02   0.35  0.59\n",
              "\n",
              "[8 rows x 13 columns]"
            ]
          },
          "metadata": {
            "tags": []
          },
          "execution_count": 23
        }
      ]
    },
    {
      "cell_type": "markdown",
      "metadata": {
        "id": "_OvqNIz8TRpT"
      },
      "source": [
        "### Visualize bias in model?\n",
        "The charts below display the default group metrics calculated across each attribute, **colored based on number of samples in the attribute group**"
      ]
    },
    {
      "cell_type": "code",
      "metadata": {
        "ExecuteTime": {
          "end_time": "2020-08-18T18:07:34.090402Z",
          "start_time": "2020-08-18T18:07:34.073969Z"
        },
        "id": "OiIrS8NWTRpT"
      },
      "source": [
        "aqp = Plot()"
      ],
      "execution_count": null,
      "outputs": []
    },
    {
      "cell_type": "code",
      "metadata": {
        "ExecuteTime": {
          "end_time": "2020-08-18T18:07:34.614479Z",
          "start_time": "2020-08-18T18:07:34.131558Z"
        },
        "colab": {
          "base_uri": "https://localhost:8080/",
          "height": 355
        },
        "id": "PIRdAkvpTRpT",
        "outputId": "827d433b-cad8-4528-c358-16a66b976aa4"
      },
      "source": [
        "#Visualizing a single absolute group metric across all population groups\n",
        "fnr = aqp.plot_group_metric(xtab, 'fpr')"
      ],
      "execution_count": null,
      "outputs": [
        {
          "output_type": "display_data",
          "data": {
            "image/png": "[encoded data removed]",
            "text/plain": [
              "<Figure size 720x360 with 1 Axes>"
            ]
          },
          "metadata": {
            "tags": [],
            "needs_background": "light"
          }
        }
      ]
    },
    {
      "cell_type": "code",
      "metadata": {
        "ExecuteTime": {
          "end_time": "2020-08-18T18:07:34.927345Z",
          "start_time": "2020-08-18T18:07:34.618226Z"
        },
        "colab": {
          "base_uri": "https://localhost:8080/",
          "height": 355
        },
        "id": "teJguaBZTRpU",
        "outputId": "67717279-28b0-4d07-cd7d-06aa68bee508"
      },
      "source": [
        "#View group metrics for only groups over a certain size threshold\n",
        "\n",
        "fnr = aqp.plot_group_metric(xtab, 'fpr', min_group_size=0.05)"
      ],
      "execution_count": null,
      "outputs": [
        {
          "output_type": "display_data",
          "data": {
            "image/png": "[encoded data removed]",
            "text/plain": [
              "<Figure size 720x360 with 1 Axes>"
            ]
          },
          "metadata": {
            "tags": [],
            "needs_background": "light"
          }
        }
      ]
    },
    {
      "cell_type": "code",
      "metadata": {
        "ExecuteTime": {
          "end_time": "2020-08-18T18:07:36.197647Z",
          "start_time": "2020-08-18T18:07:34.940761Z"
        },
        "colab": {
          "base_uri": "https://localhost:8080/",
          "height": 426
        },
        "id": "Ps5RG7oiTRpV",
        "outputId": "1ca7aa6d-92cb-4f78-a061-574105faa5f2"
      },
      "source": [
        "#Visualizing multiple user-specified absolute group metrics across all population groups\n",
        "p = aqp.plot_group_metric_all(xtab, metrics=['ppr','pprev','fdr','fpr'], ncols=4)"
      ],
      "execution_count": null,
      "outputs": [
        {
          "output_type": "display_data",
          "data": {
            "image/png": "[encoded data removed]",
            "text/plain": [
              "<Figure size 1800x432 with 4 Axes>"
            ]
          },
          "metadata": {
            "tags": [],
            "needs_background": "light"
          }
        },
        {
          "output_type": "display_data",
          "data": {
            "text/plain": [
              "<Figure size 432x288 with 0 Axes>"
            ]
          },
          "metadata": {
            "tags": []
          }
        }
      ]
    },
    {
      "cell_type": "code",
      "metadata": {
        "ExecuteTime": {
          "end_time": "2020-08-18T18:07:38.198701Z",
          "start_time": "2020-08-18T18:07:36.206738Z"
        },
        "colab": {
          "base_uri": "https://localhost:8080/",
          "height": 752
        },
        "id": "PlWUQePCTRpW",
        "outputId": "cd204c65-000e-4617-9e3b-be6e92e73005"
      },
      "source": [
        "#**Visualizing default absolute group metrics across all population groups**\n",
        "a = aqp.plot_group_metric_all(xtab, ncols=3)"
      ],
      "execution_count": null,
      "outputs": [
        {
          "output_type": "display_data",
          "data": {
            "image/png": "[encoded data removed]",
            "text/plain": [
              "<Figure size 1800x864 with 6 Axes>"
            ]
          },
          "metadata": {
            "tags": [],
            "needs_background": "light"
          }
        },
        {
          "output_type": "display_data",
          "data": {
            "text/plain": [
              "<Figure size 432x288 with 0 Axes>"
            ]
          },
          "metadata": {
            "tags": []
          }
        }
      ]
    },
    {
      "cell_type": "markdown",
      "metadata": {
        "id": "ZHQqVSDJTRpW"
      },
      "source": [
        "# Disparity?"
      ]
    },
    {
      "cell_type": "markdown",
      "metadata": {
        "id": "9PJnZuvZPr76"
      },
      "source": [
        "\n",
        "$$Disparity_{FNR} =  \\frac{FNR_{black}}{FNR_{white}}$$ \n",
        "\n",
        "Disparities Calculated Calcuated:\n",
        "\n",
        "| Metric | Column Name |\n",
        "| --- | --- |\n",
        "| True Positive Rate Disparity | 'tpr_disprity' |\n",
        "| True Negative Rate | 'tnr_disparity' |\n",
        "| False Omission Rate | 'for_disparity' |\n",
        "| False Discovery Rate | 'fdr_disparity' |\n",
        "| False Positive Rate | 'fpr_disparity' |\n",
        "| False NegativeRate | 'fnr_disparity' |\n",
        "| Negative Predictive Value | 'npv_disparity' |\n",
        "| Precision Disparity | 'precision_disparity' |\n",
        "| Predicted Positive Ratio$_k$ Disparity | 'ppr_disparity' |\n",
        "| Predicted Positive Ratio$_g$ Disparity | 'pprev_disparity' |\n"
      ]
    },
    {
      "cell_type": "code",
      "metadata": {
        "ExecuteTime": {
          "end_time": "2020-08-18T18:07:38.204989Z",
          "start_time": "2020-08-18T18:07:38.200478Z"
        },
        "id": "hXF3ol3jTRpW"
      },
      "source": [
        "b = Bias()"
      ],
      "execution_count": null,
      "outputs": []
    },
    {
      "cell_type": "code",
      "metadata": {
        "ExecuteTime": {
          "end_time": "2020-08-18T18:07:39.798714Z",
          "start_time": "2020-08-18T18:07:38.214052Z"
        },
        "colab": {
          "base_uri": "https://localhost:8080/",
          "height": 338
        },
        "id": "eIZTWo_ETRpY",
        "outputId": "00c77aa6-40b2-43b5-e683-3d3bad8893d6"
      },
      "source": [
        "#Disparities calculated in relation to a user-specified group for each attribute\n",
        "bdf = b.get_disparity_predefined_groups(xtab, original_df=df, \n",
        "                                        ref_groups_dict={'PatientAge':'adult', 'PatientSex':'M', 'Procedure':'AP'}, \n",
        "                                        alpha=0.05, check_significance=True, \n",
        "                                        mask_significance=True).round(2)\n",
        "bdf #.style"
      ],
      "execution_count": null,
      "outputs": [
        {
          "output_type": "stream",
          "text": [
            "get_disparity_predefined_group()\n"
          ],
          "name": "stdout"
        },
        {
          "output_type": "execute_result",
          "data": {
            "text/html": [
              "<div>\n",
              "<style scoped>\n",
              "    .dataframe tbody tr th:only-of-type {\n",
              "        vertical-align: middle;\n",
              "    }\n",
              "\n",
              "    .dataframe tbody tr th {\n",
              "        vertical-align: top;\n",
              "    }\n",
              "\n",
              "    .dataframe thead th {\n",
              "        text-align: right;\n",
              "    }\n",
              "</style>\n",
              "<table border=\"1\" class=\"dataframe\">\n",
              "  <thead>\n",
              "    <tr style=\"text-align: right;\">\n",
              "      <th></th>\n",
              "      <th>model_id</th>\n",
              "      <th>score_threshold</th>\n",
              "      <th>k</th>\n",
              "      <th>attribute_name</th>\n",
              "      <th>attribute_value</th>\n",
              "      <th>tpr</th>\n",
              "      <th>tnr</th>\n",
              "      <th>for</th>\n",
              "      <th>fdr</th>\n",
              "      <th>fpr</th>\n",
              "      <th>fnr</th>\n",
              "      <th>npv</th>\n",
              "      <th>precision</th>\n",
              "      <th>pp</th>\n",
              "      <th>pn</th>\n",
              "      <th>ppr</th>\n",
              "      <th>pprev</th>\n",
              "      <th>fp</th>\n",
              "      <th>fn</th>\n",
              "      <th>tn</th>\n",
              "      <th>tp</th>\n",
              "      <th>group_label_pos</th>\n",
              "      <th>group_label_neg</th>\n",
              "      <th>group_size</th>\n",
              "      <th>total_entities</th>\n",
              "      <th>prev</th>\n",
              "      <th>label_value_significance</th>\n",
              "      <th>score_significance</th>\n",
              "      <th>fdr_disparity</th>\n",
              "      <th>fdr_ref_group_value</th>\n",
              "      <th>fdr_significance</th>\n",
              "      <th>fnr_disparity</th>\n",
              "      <th>fnr_ref_group_value</th>\n",
              "      <th>fnr_significance</th>\n",
              "      <th>for_disparity</th>\n",
              "      <th>for_ref_group_value</th>\n",
              "      <th>for_significance</th>\n",
              "      <th>fpr_disparity</th>\n",
              "      <th>fpr_ref_group_value</th>\n",
              "      <th>fpr_significance</th>\n",
              "      <th>npv_disparity</th>\n",
              "      <th>npv_ref_group_value</th>\n",
              "      <th>npv_significance</th>\n",
              "      <th>ppr_disparity</th>\n",
              "      <th>ppr_ref_group_value</th>\n",
              "      <th>ppr_significance</th>\n",
              "      <th>pprev_disparity</th>\n",
              "      <th>pprev_ref_group_value</th>\n",
              "      <th>pprev_significance</th>\n",
              "      <th>precision_disparity</th>\n",
              "      <th>precision_ref_group_value</th>\n",
              "      <th>precision_significance</th>\n",
              "      <th>tnr_disparity</th>\n",
              "      <th>tnr_ref_group_value</th>\n",
              "      <th>tnr_significance</th>\n",
              "      <th>tpr_disparity</th>\n",
              "      <th>tpr_ref_group_value</th>\n",
              "      <th>tpr_significance</th>\n",
              "    </tr>\n",
              "  </thead>\n",
              "  <tbody>\n",
              "    <tr>\n",
              "      <th>0</th>\n",
              "      <td>0</td>\n",
              "      <td>binary 0/1</td>\n",
              "      <td>269</td>\n",
              "      <td>Procedure</td>\n",
              "      <td>AP</td>\n",
              "      <td>0.15</td>\n",
              "      <td>0.36</td>\n",
              "      <td>0.83</td>\n",
              "      <td>0.68</td>\n",
              "      <td>0.64</td>\n",
              "      <td>0.85</td>\n",
              "      <td>0.17</td>\n",
              "      <td>0.32</td>\n",
              "      <td>181</td>\n",
              "      <td>403</td>\n",
              "      <td>0.67</td>\n",
              "      <td>0.31</td>\n",
              "      <td>123</td>\n",
              "      <td>334</td>\n",
              "      <td>69</td>\n",
              "      <td>58</td>\n",
              "      <td>392</td>\n",
              "      <td>192</td>\n",
              "      <td>584</td>\n",
              "      <td>810</td>\n",
              "      <td>0.67</td>\n",
              "      <td>False</td>\n",
              "      <td>False</td>\n",
              "      <td>1.00</td>\n",
              "      <td>AP</td>\n",
              "      <td>False</td>\n",
              "      <td>1.00</td>\n",
              "      <td>AP</td>\n",
              "      <td>False</td>\n",
              "      <td>1.00</td>\n",
              "      <td>AP</td>\n",
              "      <td>False</td>\n",
              "      <td>1.00</td>\n",
              "      <td>AP</td>\n",
              "      <td>False</td>\n",
              "      <td>1.00</td>\n",
              "      <td>AP</td>\n",
              "      <td>False</td>\n",
              "      <td>1.00</td>\n",
              "      <td>AP</td>\n",
              "      <td>False</td>\n",
              "      <td>1.00</td>\n",
              "      <td>AP</td>\n",
              "      <td>False</td>\n",
              "      <td>1.00</td>\n",
              "      <td>AP</td>\n",
              "      <td>False</td>\n",
              "      <td>1.00</td>\n",
              "      <td>AP</td>\n",
              "      <td>False</td>\n",
              "      <td>1.00</td>\n",
              "      <td>AP</td>\n",
              "      <td>False</td>\n",
              "    </tr>\n",
              "    <tr>\n",
              "      <th>1</th>\n",
              "      <td>0</td>\n",
              "      <td>binary 0/1</td>\n",
              "      <td>269</td>\n",
              "      <td>Procedure</td>\n",
              "      <td>PA</td>\n",
              "      <td>0.13</td>\n",
              "      <td>0.22</td>\n",
              "      <td>0.86</td>\n",
              "      <td>0.81</td>\n",
              "      <td>0.78</td>\n",
              "      <td>0.87</td>\n",
              "      <td>0.14</td>\n",
              "      <td>0.19</td>\n",
              "      <td>88</td>\n",
              "      <td>138</td>\n",
              "      <td>0.33</td>\n",
              "      <td>0.39</td>\n",
              "      <td>71</td>\n",
              "      <td>118</td>\n",
              "      <td>20</td>\n",
              "      <td>17</td>\n",
              "      <td>135</td>\n",
              "      <td>91</td>\n",
              "      <td>226</td>\n",
              "      <td>810</td>\n",
              "      <td>0.60</td>\n",
              "      <td>False</td>\n",
              "      <td>True</td>\n",
              "      <td>1.19</td>\n",
              "      <td>AP</td>\n",
              "      <td>True</td>\n",
              "      <td>1.03</td>\n",
              "      <td>AP</td>\n",
              "      <td>False</td>\n",
              "      <td>1.03</td>\n",
              "      <td>AP</td>\n",
              "      <td>False</td>\n",
              "      <td>1.22</td>\n",
              "      <td>AP</td>\n",
              "      <td>True</td>\n",
              "      <td>0.85</td>\n",
              "      <td>AP</td>\n",
              "      <td>False</td>\n",
              "      <td>0.49</td>\n",
              "      <td>AP</td>\n",
              "      <td>True</td>\n",
              "      <td>1.26</td>\n",
              "      <td>AP</td>\n",
              "      <td>True</td>\n",
              "      <td>0.60</td>\n",
              "      <td>AP</td>\n",
              "      <td>True</td>\n",
              "      <td>0.61</td>\n",
              "      <td>AP</td>\n",
              "      <td>True</td>\n",
              "      <td>0.85</td>\n",
              "      <td>AP</td>\n",
              "      <td>False</td>\n",
              "    </tr>\n",
              "    <tr>\n",
              "      <th>2</th>\n",
              "      <td>0</td>\n",
              "      <td>binary 0/1</td>\n",
              "      <td>269</td>\n",
              "      <td>PatientAge</td>\n",
              "      <td>adult</td>\n",
              "      <td>0.16</td>\n",
              "      <td>0.22</td>\n",
              "      <td>0.82</td>\n",
              "      <td>0.81</td>\n",
              "      <td>0.78</td>\n",
              "      <td>0.84</td>\n",
              "      <td>0.18</td>\n",
              "      <td>0.19</td>\n",
              "      <td>108</td>\n",
              "      <td>131</td>\n",
              "      <td>0.40</td>\n",
              "      <td>0.45</td>\n",
              "      <td>87</td>\n",
              "      <td>107</td>\n",
              "      <td>24</td>\n",
              "      <td>21</td>\n",
              "      <td>128</td>\n",
              "      <td>111</td>\n",
              "      <td>239</td>\n",
              "      <td>810</td>\n",
              "      <td>0.54</td>\n",
              "      <td>False</td>\n",
              "      <td>False</td>\n",
              "      <td>1.00</td>\n",
              "      <td>adult</td>\n",
              "      <td>False</td>\n",
              "      <td>1.00</td>\n",
              "      <td>adult</td>\n",
              "      <td>False</td>\n",
              "      <td>1.00</td>\n",
              "      <td>adult</td>\n",
              "      <td>False</td>\n",
              "      <td>1.00</td>\n",
              "      <td>adult</td>\n",
              "      <td>False</td>\n",
              "      <td>1.00</td>\n",
              "      <td>adult</td>\n",
              "      <td>False</td>\n",
              "      <td>1.00</td>\n",
              "      <td>adult</td>\n",
              "      <td>False</td>\n",
              "      <td>1.00</td>\n",
              "      <td>adult</td>\n",
              "      <td>False</td>\n",
              "      <td>1.00</td>\n",
              "      <td>adult</td>\n",
              "      <td>False</td>\n",
              "      <td>1.00</td>\n",
              "      <td>adult</td>\n",
              "      <td>False</td>\n",
              "      <td>1.00</td>\n",
              "      <td>adult</td>\n",
              "      <td>False</td>\n",
              "    </tr>\n",
              "    <tr>\n",
              "      <th>3</th>\n",
              "      <td>0</td>\n",
              "      <td>binary 0/1</td>\n",
              "      <td>269</td>\n",
              "      <td>PatientAge</td>\n",
              "      <td>child</td>\n",
              "      <td>0.08</td>\n",
              "      <td>0.19</td>\n",
              "      <td>0.90</td>\n",
              "      <td>0.83</td>\n",
              "      <td>0.81</td>\n",
              "      <td>0.92</td>\n",
              "      <td>0.10</td>\n",
              "      <td>0.17</td>\n",
              "      <td>30</td>\n",
              "      <td>60</td>\n",
              "      <td>0.11</td>\n",
              "      <td>0.33</td>\n",
              "      <td>25</td>\n",
              "      <td>54</td>\n",
              "      <td>6</td>\n",
              "      <td>5</td>\n",
              "      <td>59</td>\n",
              "      <td>31</td>\n",
              "      <td>90</td>\n",
              "      <td>810</td>\n",
              "      <td>0.66</td>\n",
              "      <td>False</td>\n",
              "      <td>False</td>\n",
              "      <td>1.03</td>\n",
              "      <td>adult</td>\n",
              "      <td>False</td>\n",
              "      <td>1.09</td>\n",
              "      <td>adult</td>\n",
              "      <td>False</td>\n",
              "      <td>1.10</td>\n",
              "      <td>adult</td>\n",
              "      <td>False</td>\n",
              "      <td>1.03</td>\n",
              "      <td>adult</td>\n",
              "      <td>False</td>\n",
              "      <td>0.55</td>\n",
              "      <td>adult</td>\n",
              "      <td>False</td>\n",
              "      <td>0.28</td>\n",
              "      <td>adult</td>\n",
              "      <td>False</td>\n",
              "      <td>0.74</td>\n",
              "      <td>adult</td>\n",
              "      <td>False</td>\n",
              "      <td>0.86</td>\n",
              "      <td>adult</td>\n",
              "      <td>False</td>\n",
              "      <td>0.90</td>\n",
              "      <td>adult</td>\n",
              "      <td>False</td>\n",
              "      <td>0.52</td>\n",
              "      <td>adult</td>\n",
              "      <td>False</td>\n",
              "    </tr>\n",
              "    <tr>\n",
              "      <th>4</th>\n",
              "      <td>0</td>\n",
              "      <td>binary 0/1</td>\n",
              "      <td>269</td>\n",
              "      <td>PatientAge</td>\n",
              "      <td>old_age</td>\n",
              "      <td>0.14</td>\n",
              "      <td>0.42</td>\n",
              "      <td>0.83</td>\n",
              "      <td>0.63</td>\n",
              "      <td>0.58</td>\n",
              "      <td>0.86</td>\n",
              "      <td>0.17</td>\n",
              "      <td>0.37</td>\n",
              "      <td>131</td>\n",
              "      <td>350</td>\n",
              "      <td>0.49</td>\n",
              "      <td>0.27</td>\n",
              "      <td>82</td>\n",
              "      <td>291</td>\n",
              "      <td>59</td>\n",
              "      <td>49</td>\n",
              "      <td>340</td>\n",
              "      <td>141</td>\n",
              "      <td>481</td>\n",
              "      <td>810</td>\n",
              "      <td>0.71</td>\n",
              "      <td>True</td>\n",
              "      <td>True</td>\n",
              "      <td>0.78</td>\n",
              "      <td>adult</td>\n",
              "      <td>True</td>\n",
              "      <td>1.02</td>\n",
              "      <td>adult</td>\n",
              "      <td>False</td>\n",
              "      <td>1.02</td>\n",
              "      <td>adult</td>\n",
              "      <td>False</td>\n",
              "      <td>0.74</td>\n",
              "      <td>adult</td>\n",
              "      <td>True</td>\n",
              "      <td>0.92</td>\n",
              "      <td>adult</td>\n",
              "      <td>False</td>\n",
              "      <td>1.21</td>\n",
              "      <td>adult</td>\n",
              "      <td>True</td>\n",
              "      <td>0.60</td>\n",
              "      <td>adult</td>\n",
              "      <td>True</td>\n",
              "      <td>1.92</td>\n",
              "      <td>adult</td>\n",
              "      <td>True</td>\n",
              "      <td>1.94</td>\n",
              "      <td>adult</td>\n",
              "      <td>True</td>\n",
              "      <td>0.88</td>\n",
              "      <td>adult</td>\n",
              "      <td>False</td>\n",
              "    </tr>\n",
              "    <tr>\n",
              "      <th>5</th>\n",
              "      <td>0</td>\n",
              "      <td>binary 0/1</td>\n",
              "      <td>269</td>\n",
              "      <td>PatientSex</td>\n",
              "      <td>F</td>\n",
              "      <td>0.18</td>\n",
              "      <td>0.28</td>\n",
              "      <td>0.85</td>\n",
              "      <td>0.68</td>\n",
              "      <td>0.72</td>\n",
              "      <td>0.82</td>\n",
              "      <td>0.15</td>\n",
              "      <td>0.32</td>\n",
              "      <td>102</td>\n",
              "      <td>180</td>\n",
              "      <td>0.38</td>\n",
              "      <td>0.36</td>\n",
              "      <td>69</td>\n",
              "      <td>153</td>\n",
              "      <td>27</td>\n",
              "      <td>33</td>\n",
              "      <td>186</td>\n",
              "      <td>96</td>\n",
              "      <td>282</td>\n",
              "      <td>810</td>\n",
              "      <td>0.66</td>\n",
              "      <td>False</td>\n",
              "      <td>False</td>\n",
              "      <td>0.91</td>\n",
              "      <td>M</td>\n",
              "      <td>False</td>\n",
              "      <td>0.94</td>\n",
              "      <td>M</td>\n",
              "      <td>False</td>\n",
              "      <td>1.03</td>\n",
              "      <td>M</td>\n",
              "      <td>False</td>\n",
              "      <td>1.08</td>\n",
              "      <td>M</td>\n",
              "      <td>False</td>\n",
              "      <td>0.88</td>\n",
              "      <td>M</td>\n",
              "      <td>False</td>\n",
              "      <td>0.63</td>\n",
              "      <td>M</td>\n",
              "      <td>False</td>\n",
              "      <td>1.15</td>\n",
              "      <td>M</td>\n",
              "      <td>False</td>\n",
              "      <td>1.27</td>\n",
              "      <td>M</td>\n",
              "      <td>False</td>\n",
              "      <td>0.84</td>\n",
              "      <td>M</td>\n",
              "      <td>False</td>\n",
              "      <td>1.43</td>\n",
              "      <td>M</td>\n",
              "      <td>False</td>\n",
              "    </tr>\n",
              "    <tr>\n",
              "      <th>6</th>\n",
              "      <td>0</td>\n",
              "      <td>binary 0/1</td>\n",
              "      <td>269</td>\n",
              "      <td>PatientSex</td>\n",
              "      <td>M</td>\n",
              "      <td>0.12</td>\n",
              "      <td>0.33</td>\n",
              "      <td>0.83</td>\n",
              "      <td>0.75</td>\n",
              "      <td>0.67</td>\n",
              "      <td>0.88</td>\n",
              "      <td>0.17</td>\n",
              "      <td>0.25</td>\n",
              "      <td>161</td>\n",
              "      <td>350</td>\n",
              "      <td>0.60</td>\n",
              "      <td>0.32</td>\n",
              "      <td>120</td>\n",
              "      <td>290</td>\n",
              "      <td>60</td>\n",
              "      <td>41</td>\n",
              "      <td>331</td>\n",
              "      <td>180</td>\n",
              "      <td>511</td>\n",
              "      <td>810</td>\n",
              "      <td>0.65</td>\n",
              "      <td>False</td>\n",
              "      <td>False</td>\n",
              "      <td>1.00</td>\n",
              "      <td>M</td>\n",
              "      <td>False</td>\n",
              "      <td>1.00</td>\n",
              "      <td>M</td>\n",
              "      <td>False</td>\n",
              "      <td>1.00</td>\n",
              "      <td>M</td>\n",
              "      <td>False</td>\n",
              "      <td>1.00</td>\n",
              "      <td>M</td>\n",
              "      <td>False</td>\n",
              "      <td>1.00</td>\n",
              "      <td>M</td>\n",
              "      <td>False</td>\n",
              "      <td>1.00</td>\n",
              "      <td>M</td>\n",
              "      <td>False</td>\n",
              "      <td>1.00</td>\n",
              "      <td>M</td>\n",
              "      <td>False</td>\n",
              "      <td>1.00</td>\n",
              "      <td>M</td>\n",
              "      <td>False</td>\n",
              "      <td>1.00</td>\n",
              "      <td>M</td>\n",
              "      <td>False</td>\n",
              "      <td>1.00</td>\n",
              "      <td>M</td>\n",
              "      <td>False</td>\n",
              "    </tr>\n",
              "    <tr>\n",
              "      <th>7</th>\n",
              "      <td>0</td>\n",
              "      <td>binary 0/1</td>\n",
              "      <td>269</td>\n",
              "      <td>PatientSex</td>\n",
              "      <td>other</td>\n",
              "      <td>0.10</td>\n",
              "      <td>0.29</td>\n",
              "      <td>0.82</td>\n",
              "      <td>0.83</td>\n",
              "      <td>0.71</td>\n",
              "      <td>0.90</td>\n",
              "      <td>0.18</td>\n",
              "      <td>0.17</td>\n",
              "      <td>6</td>\n",
              "      <td>11</td>\n",
              "      <td>0.02</td>\n",
              "      <td>0.35</td>\n",
              "      <td>5</td>\n",
              "      <td>9</td>\n",
              "      <td>2</td>\n",
              "      <td>1</td>\n",
              "      <td>10</td>\n",
              "      <td>7</td>\n",
              "      <td>17</td>\n",
              "      <td>810</td>\n",
              "      <td>0.59</td>\n",
              "      <td>False</td>\n",
              "      <td>False</td>\n",
              "      <td>1.12</td>\n",
              "      <td>M</td>\n",
              "      <td>False</td>\n",
              "      <td>1.03</td>\n",
              "      <td>M</td>\n",
              "      <td>False</td>\n",
              "      <td>0.99</td>\n",
              "      <td>M</td>\n",
              "      <td>False</td>\n",
              "      <td>1.07</td>\n",
              "      <td>M</td>\n",
              "      <td>False</td>\n",
              "      <td>1.06</td>\n",
              "      <td>M</td>\n",
              "      <td>False</td>\n",
              "      <td>0.04</td>\n",
              "      <td>M</td>\n",
              "      <td>False</td>\n",
              "      <td>1.12</td>\n",
              "      <td>M</td>\n",
              "      <td>False</td>\n",
              "      <td>0.65</td>\n",
              "      <td>M</td>\n",
              "      <td>False</td>\n",
              "      <td>0.86</td>\n",
              "      <td>M</td>\n",
              "      <td>False</td>\n",
              "      <td>0.81</td>\n",
              "      <td>M</td>\n",
              "      <td>False</td>\n",
              "    </tr>\n",
              "  </tbody>\n",
              "</table>\n",
              "</div>"
            ],
            "text/plain": [
              "   model_id score_threshold  ...  tpr_ref_group_value tpr_significance\n",
              "0         0      binary 0/1  ...                   AP            False\n",
              "1         0      binary 0/1  ...                   AP            False\n",
              "2         0      binary 0/1  ...                adult            False\n",
              "3         0      binary 0/1  ...                adult            False\n",
              "4         0      binary 0/1  ...                adult            False\n",
              "5         0      binary 0/1  ...                    M            False\n",
              "6         0      binary 0/1  ...                    M            False\n",
              "7         0      binary 0/1  ...                    M            False\n",
              "\n",
              "[8 rows x 58 columns]"
            ]
          },
          "metadata": {
            "tags": []
          },
          "execution_count": 48
        }
      ]
    },
    {
      "cell_type": "code",
      "metadata": {
        "ExecuteTime": {
          "end_time": "2020-08-18T18:07:39.878536Z",
          "start_time": "2020-08-18T18:07:39.805271Z"
        },
        "colab": {
          "base_uri": "https://localhost:8080/",
          "height": 321
        },
        "id": "GWGU-dxETRpZ",
        "outputId": "72f9d74c-24a3-4d81-c74e-6a1cef829557"
      },
      "source": [
        "# View disparity metrics added to dataframe\n",
        "bdf[['attribute_name', 'attribute_value'] +\n",
        "     b.list_disparities(bdf) + b.list_significance(bdf)].round(2) #.style"
      ],
      "execution_count": null,
      "outputs": [
        {
          "output_type": "execute_result",
          "data": {
            "text/html": [
              "<div>\n",
              "<style scoped>\n",
              "    .dataframe tbody tr th:only-of-type {\n",
              "        vertical-align: middle;\n",
              "    }\n",
              "\n",
              "    .dataframe tbody tr th {\n",
              "        vertical-align: top;\n",
              "    }\n",
              "\n",
              "    .dataframe thead th {\n",
              "        text-align: right;\n",
              "    }\n",
              "</style>\n",
              "<table border=\"1\" class=\"dataframe\">\n",
              "  <thead>\n",
              "    <tr style=\"text-align: right;\">\n",
              "      <th></th>\n",
              "      <th>attribute_name</th>\n",
              "      <th>attribute_value</th>\n",
              "      <th>fdr_disparity</th>\n",
              "      <th>fnr_disparity</th>\n",
              "      <th>for_disparity</th>\n",
              "      <th>fpr_disparity</th>\n",
              "      <th>npv_disparity</th>\n",
              "      <th>ppr_disparity</th>\n",
              "      <th>pprev_disparity</th>\n",
              "      <th>precision_disparity</th>\n",
              "      <th>tnr_disparity</th>\n",
              "      <th>tpr_disparity</th>\n",
              "      <th>label_value_significance</th>\n",
              "      <th>score_significance</th>\n",
              "      <th>fdr_significance</th>\n",
              "      <th>fnr_significance</th>\n",
              "      <th>for_significance</th>\n",
              "      <th>fpr_significance</th>\n",
              "      <th>npv_significance</th>\n",
              "      <th>ppr_significance</th>\n",
              "      <th>pprev_significance</th>\n",
              "      <th>precision_significance</th>\n",
              "      <th>tnr_significance</th>\n",
              "      <th>tpr_significance</th>\n",
              "    </tr>\n",
              "  </thead>\n",
              "  <tbody>\n",
              "    <tr>\n",
              "      <th>0</th>\n",
              "      <td>Procedure</td>\n",
              "      <td>AP</td>\n",
              "      <td>1.00</td>\n",
              "      <td>1.00</td>\n",
              "      <td>1.00</td>\n",
              "      <td>1.00</td>\n",
              "      <td>1.00</td>\n",
              "      <td>1.00</td>\n",
              "      <td>1.00</td>\n",
              "      <td>1.00</td>\n",
              "      <td>1.00</td>\n",
              "      <td>1.00</td>\n",
              "      <td>False</td>\n",
              "      <td>False</td>\n",
              "      <td>False</td>\n",
              "      <td>False</td>\n",
              "      <td>False</td>\n",
              "      <td>False</td>\n",
              "      <td>False</td>\n",
              "      <td>False</td>\n",
              "      <td>False</td>\n",
              "      <td>False</td>\n",
              "      <td>False</td>\n",
              "      <td>False</td>\n",
              "    </tr>\n",
              "    <tr>\n",
              "      <th>1</th>\n",
              "      <td>Procedure</td>\n",
              "      <td>PA</td>\n",
              "      <td>1.19</td>\n",
              "      <td>1.03</td>\n",
              "      <td>1.03</td>\n",
              "      <td>1.22</td>\n",
              "      <td>0.85</td>\n",
              "      <td>0.49</td>\n",
              "      <td>1.26</td>\n",
              "      <td>0.60</td>\n",
              "      <td>0.61</td>\n",
              "      <td>0.85</td>\n",
              "      <td>False</td>\n",
              "      <td>True</td>\n",
              "      <td>True</td>\n",
              "      <td>False</td>\n",
              "      <td>False</td>\n",
              "      <td>True</td>\n",
              "      <td>False</td>\n",
              "      <td>True</td>\n",
              "      <td>True</td>\n",
              "      <td>True</td>\n",
              "      <td>True</td>\n",
              "      <td>False</td>\n",
              "    </tr>\n",
              "    <tr>\n",
              "      <th>2</th>\n",
              "      <td>PatientAge</td>\n",
              "      <td>adult</td>\n",
              "      <td>1.00</td>\n",
              "      <td>1.00</td>\n",
              "      <td>1.00</td>\n",
              "      <td>1.00</td>\n",
              "      <td>1.00</td>\n",
              "      <td>1.00</td>\n",
              "      <td>1.00</td>\n",
              "      <td>1.00</td>\n",
              "      <td>1.00</td>\n",
              "      <td>1.00</td>\n",
              "      <td>False</td>\n",
              "      <td>False</td>\n",
              "      <td>False</td>\n",
              "      <td>False</td>\n",
              "      <td>False</td>\n",
              "      <td>False</td>\n",
              "      <td>False</td>\n",
              "      <td>False</td>\n",
              "      <td>False</td>\n",
              "      <td>False</td>\n",
              "      <td>False</td>\n",
              "      <td>False</td>\n",
              "    </tr>\n",
              "    <tr>\n",
              "      <th>3</th>\n",
              "      <td>PatientAge</td>\n",
              "      <td>child</td>\n",
              "      <td>1.03</td>\n",
              "      <td>1.09</td>\n",
              "      <td>1.10</td>\n",
              "      <td>1.03</td>\n",
              "      <td>0.55</td>\n",
              "      <td>0.28</td>\n",
              "      <td>0.74</td>\n",
              "      <td>0.86</td>\n",
              "      <td>0.90</td>\n",
              "      <td>0.52</td>\n",
              "      <td>False</td>\n",
              "      <td>False</td>\n",
              "      <td>False</td>\n",
              "      <td>False</td>\n",
              "      <td>False</td>\n",
              "      <td>False</td>\n",
              "      <td>False</td>\n",
              "      <td>False</td>\n",
              "      <td>False</td>\n",
              "      <td>False</td>\n",
              "      <td>False</td>\n",
              "      <td>False</td>\n",
              "    </tr>\n",
              "    <tr>\n",
              "      <th>4</th>\n",
              "      <td>PatientAge</td>\n",
              "      <td>old_age</td>\n",
              "      <td>0.78</td>\n",
              "      <td>1.02</td>\n",
              "      <td>1.02</td>\n",
              "      <td>0.74</td>\n",
              "      <td>0.92</td>\n",
              "      <td>1.21</td>\n",
              "      <td>0.60</td>\n",
              "      <td>1.92</td>\n",
              "      <td>1.94</td>\n",
              "      <td>0.88</td>\n",
              "      <td>True</td>\n",
              "      <td>True</td>\n",
              "      <td>True</td>\n",
              "      <td>False</td>\n",
              "      <td>False</td>\n",
              "      <td>True</td>\n",
              "      <td>False</td>\n",
              "      <td>True</td>\n",
              "      <td>True</td>\n",
              "      <td>True</td>\n",
              "      <td>True</td>\n",
              "      <td>False</td>\n",
              "    </tr>\n",
              "    <tr>\n",
              "      <th>5</th>\n",
              "      <td>PatientSex</td>\n",
              "      <td>F</td>\n",
              "      <td>0.91</td>\n",
              "      <td>0.94</td>\n",
              "      <td>1.03</td>\n",
              "      <td>1.08</td>\n",
              "      <td>0.88</td>\n",
              "      <td>0.63</td>\n",
              "      <td>1.15</td>\n",
              "      <td>1.27</td>\n",
              "      <td>0.84</td>\n",
              "      <td>1.43</td>\n",
              "      <td>False</td>\n",
              "      <td>False</td>\n",
              "      <td>False</td>\n",
              "      <td>False</td>\n",
              "      <td>False</td>\n",
              "      <td>False</td>\n",
              "      <td>False</td>\n",
              "      <td>False</td>\n",
              "      <td>False</td>\n",
              "      <td>False</td>\n",
              "      <td>False</td>\n",
              "      <td>False</td>\n",
              "    </tr>\n",
              "    <tr>\n",
              "      <th>6</th>\n",
              "      <td>PatientSex</td>\n",
              "      <td>M</td>\n",
              "      <td>1.00</td>\n",
              "      <td>1.00</td>\n",
              "      <td>1.00</td>\n",
              "      <td>1.00</td>\n",
              "      <td>1.00</td>\n",
              "      <td>1.00</td>\n",
              "      <td>1.00</td>\n",
              "      <td>1.00</td>\n",
              "      <td>1.00</td>\n",
              "      <td>1.00</td>\n",
              "      <td>False</td>\n",
              "      <td>False</td>\n",
              "      <td>False</td>\n",
              "      <td>False</td>\n",
              "      <td>False</td>\n",
              "      <td>False</td>\n",
              "      <td>False</td>\n",
              "      <td>False</td>\n",
              "      <td>False</td>\n",
              "      <td>False</td>\n",
              "      <td>False</td>\n",
              "      <td>False</td>\n",
              "    </tr>\n",
              "    <tr>\n",
              "      <th>7</th>\n",
              "      <td>PatientSex</td>\n",
              "      <td>other</td>\n",
              "      <td>1.12</td>\n",
              "      <td>1.03</td>\n",
              "      <td>0.99</td>\n",
              "      <td>1.07</td>\n",
              "      <td>1.06</td>\n",
              "      <td>0.04</td>\n",
              "      <td>1.12</td>\n",
              "      <td>0.65</td>\n",
              "      <td>0.86</td>\n",
              "      <td>0.81</td>\n",
              "      <td>False</td>\n",
              "      <td>False</td>\n",
              "      <td>False</td>\n",
              "      <td>False</td>\n",
              "      <td>False</td>\n",
              "      <td>False</td>\n",
              "      <td>False</td>\n",
              "      <td>False</td>\n",
              "      <td>False</td>\n",
              "      <td>False</td>\n",
              "      <td>False</td>\n",
              "      <td>False</td>\n",
              "    </tr>\n",
              "  </tbody>\n",
              "</table>\n",
              "</div>"
            ],
            "text/plain": [
              "  attribute_name attribute_value  ...  tnr_significance  tpr_significance\n",
              "0      Procedure              AP  ...             False             False\n",
              "1      Procedure              PA  ...              True             False\n",
              "2     PatientAge           adult  ...             False             False\n",
              "3     PatientAge           child  ...             False             False\n",
              "4     PatientAge         old_age  ...              True             False\n",
              "5     PatientSex               F  ...             False             False\n",
              "6     PatientSex               M  ...             False             False\n",
              "7     PatientSex           other  ...             False             False\n",
              "\n",
              "[8 rows x 24 columns]"
            ]
          },
          "metadata": {
            "tags": []
          },
          "execution_count": 47
        }
      ]
    },
    {
      "cell_type": "markdown",
      "metadata": {
        "id": "WrDGQ3e9TRpZ"
      },
      "source": [
        "Aequitas can automate base group selection based on dataset characterisitcs:"
      ]
    },
    {
      "cell_type": "code",
      "metadata": {
        "ExecuteTime": {
          "end_time": "2020-08-18T18:07:40.575125Z",
          "start_time": "2020-08-18T18:07:39.895024Z"
        },
        "scrolled": true,
        "colab": {
          "base_uri": "https://localhost:8080/",
          "height": 318
        },
        "id": "oRtLgu6ZTRpa",
        "outputId": "cd8b5dfd-6ec3-426b-a1ee-a5c62a7904ab"
      },
      "source": [
        "#Evaluating disparities calculated in relation to a different reference group\n",
        "hbdf = b.get_disparity_predefined_groups(xtab, original_df=df, \n",
        "                                         ref_groups_dict={'PatientAge':'adult', 'PatientSex':'M', 'Procedure':'AP'},\n",
        "                                         alpha=0.05, check_significance=True,  mask_significance=False, \n",
        "                                         selected_significance=['fpr', 'for', 'fdr'])\n",
        "# View disparity metrics added to dataframe\n",
        "hbdf[['attribute_name', 'attribute_value'] +  \n",
        "     b.list_disparities(hbdf) + b.list_significance(hbdf)].round(2)"
      ],
      "execution_count": null,
      "outputs": [
        {
          "output_type": "stream",
          "text": [
            "get_disparity_predefined_group()\n"
          ],
          "name": "stdout"
        },
        {
          "output_type": "execute_result",
          "data": {
            "text/html": [
              "<div>\n",
              "<style scoped>\n",
              "    .dataframe tbody tr th:only-of-type {\n",
              "        vertical-align: middle;\n",
              "    }\n",
              "\n",
              "    .dataframe tbody tr th {\n",
              "        vertical-align: top;\n",
              "    }\n",
              "\n",
              "    .dataframe thead th {\n",
              "        text-align: right;\n",
              "    }\n",
              "</style>\n",
              "<table border=\"1\" class=\"dataframe\">\n",
              "  <thead>\n",
              "    <tr style=\"text-align: right;\">\n",
              "      <th></th>\n",
              "      <th>attribute_name</th>\n",
              "      <th>attribute_value</th>\n",
              "      <th>fdr_disparity</th>\n",
              "      <th>fnr_disparity</th>\n",
              "      <th>for_disparity</th>\n",
              "      <th>fpr_disparity</th>\n",
              "      <th>npv_disparity</th>\n",
              "      <th>ppr_disparity</th>\n",
              "      <th>pprev_disparity</th>\n",
              "      <th>precision_disparity</th>\n",
              "      <th>tnr_disparity</th>\n",
              "      <th>tpr_disparity</th>\n",
              "      <th>label_value_significance</th>\n",
              "      <th>score_significance</th>\n",
              "      <th>fdr_significance</th>\n",
              "      <th>for_significance</th>\n",
              "      <th>fpr_significance</th>\n",
              "    </tr>\n",
              "  </thead>\n",
              "  <tbody>\n",
              "    <tr>\n",
              "      <th>0</th>\n",
              "      <td>Procedure</td>\n",
              "      <td>AP</td>\n",
              "      <td>1.00</td>\n",
              "      <td>1.00</td>\n",
              "      <td>1.00</td>\n",
              "      <td>1.00</td>\n",
              "      <td>1.00</td>\n",
              "      <td>1.00</td>\n",
              "      <td>1.00</td>\n",
              "      <td>1.00</td>\n",
              "      <td>1.00</td>\n",
              "      <td>1.00</td>\n",
              "      <td>1.00</td>\n",
              "      <td>1.00</td>\n",
              "      <td>1.00</td>\n",
              "      <td>1.00</td>\n",
              "      <td>1.00</td>\n",
              "    </tr>\n",
              "    <tr>\n",
              "      <th>1</th>\n",
              "      <td>Procedure</td>\n",
              "      <td>PA</td>\n",
              "      <td>1.19</td>\n",
              "      <td>1.03</td>\n",
              "      <td>1.03</td>\n",
              "      <td>1.22</td>\n",
              "      <td>0.85</td>\n",
              "      <td>0.49</td>\n",
              "      <td>1.26</td>\n",
              "      <td>0.60</td>\n",
              "      <td>0.61</td>\n",
              "      <td>0.85</td>\n",
              "      <td>0.05</td>\n",
              "      <td>0.04</td>\n",
              "      <td>0.02</td>\n",
              "      <td>0.47</td>\n",
              "      <td>0.02</td>\n",
              "    </tr>\n",
              "    <tr>\n",
              "      <th>2</th>\n",
              "      <td>PatientAge</td>\n",
              "      <td>adult</td>\n",
              "      <td>1.00</td>\n",
              "      <td>1.00</td>\n",
              "      <td>1.00</td>\n",
              "      <td>1.00</td>\n",
              "      <td>1.00</td>\n",
              "      <td>1.00</td>\n",
              "      <td>1.00</td>\n",
              "      <td>1.00</td>\n",
              "      <td>1.00</td>\n",
              "      <td>1.00</td>\n",
              "      <td>1.00</td>\n",
              "      <td>1.00</td>\n",
              "      <td>1.00</td>\n",
              "      <td>1.00</td>\n",
              "      <td>1.00</td>\n",
              "    </tr>\n",
              "    <tr>\n",
              "      <th>3</th>\n",
              "      <td>PatientAge</td>\n",
              "      <td>child</td>\n",
              "      <td>1.03</td>\n",
              "      <td>1.09</td>\n",
              "      <td>1.10</td>\n",
              "      <td>1.03</td>\n",
              "      <td>0.55</td>\n",
              "      <td>0.28</td>\n",
              "      <td>0.74</td>\n",
              "      <td>0.86</td>\n",
              "      <td>0.90</td>\n",
              "      <td>0.52</td>\n",
              "      <td>0.05</td>\n",
              "      <td>0.05</td>\n",
              "      <td>0.73</td>\n",
              "      <td>0.14</td>\n",
              "      <td>0.73</td>\n",
              "    </tr>\n",
              "    <tr>\n",
              "      <th>4</th>\n",
              "      <td>PatientAge</td>\n",
              "      <td>old_age</td>\n",
              "      <td>0.78</td>\n",
              "      <td>1.02</td>\n",
              "      <td>1.02</td>\n",
              "      <td>0.74</td>\n",
              "      <td>0.92</td>\n",
              "      <td>1.21</td>\n",
              "      <td>0.60</td>\n",
              "      <td>1.92</td>\n",
              "      <td>1.94</td>\n",
              "      <td>0.88</td>\n",
              "      <td>0.00</td>\n",
              "      <td>0.00</td>\n",
              "      <td>0.00</td>\n",
              "      <td>0.71</td>\n",
              "      <td>0.00</td>\n",
              "    </tr>\n",
              "    <tr>\n",
              "      <th>5</th>\n",
              "      <td>PatientSex</td>\n",
              "      <td>F</td>\n",
              "      <td>0.91</td>\n",
              "      <td>0.94</td>\n",
              "      <td>1.03</td>\n",
              "      <td>1.08</td>\n",
              "      <td>0.88</td>\n",
              "      <td>0.63</td>\n",
              "      <td>1.15</td>\n",
              "      <td>1.27</td>\n",
              "      <td>0.84</td>\n",
              "      <td>1.43</td>\n",
              "      <td>0.74</td>\n",
              "      <td>0.18</td>\n",
              "      <td>0.23</td>\n",
              "      <td>0.53</td>\n",
              "      <td>0.23</td>\n",
              "    </tr>\n",
              "    <tr>\n",
              "      <th>6</th>\n",
              "      <td>PatientSex</td>\n",
              "      <td>M</td>\n",
              "      <td>1.00</td>\n",
              "      <td>1.00</td>\n",
              "      <td>1.00</td>\n",
              "      <td>1.00</td>\n",
              "      <td>1.00</td>\n",
              "      <td>1.00</td>\n",
              "      <td>1.00</td>\n",
              "      <td>1.00</td>\n",
              "      <td>1.00</td>\n",
              "      <td>1.00</td>\n",
              "      <td>1.00</td>\n",
              "      <td>1.00</td>\n",
              "      <td>1.00</td>\n",
              "      <td>1.00</td>\n",
              "      <td>1.00</td>\n",
              "    </tr>\n",
              "    <tr>\n",
              "      <th>7</th>\n",
              "      <td>PatientSex</td>\n",
              "      <td>other</td>\n",
              "      <td>1.12</td>\n",
              "      <td>1.03</td>\n",
              "      <td>0.99</td>\n",
              "      <td>1.07</td>\n",
              "      <td>1.06</td>\n",
              "      <td>0.04</td>\n",
              "      <td>1.12</td>\n",
              "      <td>0.65</td>\n",
              "      <td>0.86</td>\n",
              "      <td>0.81</td>\n",
              "      <td>0.61</td>\n",
              "      <td>0.74</td>\n",
              "      <td>0.63</td>\n",
              "      <td>0.93</td>\n",
              "      <td>0.63</td>\n",
              "    </tr>\n",
              "  </tbody>\n",
              "</table>\n",
              "</div>"
            ],
            "text/plain": [
              "  attribute_name attribute_value  ...  for_significance  fpr_significance\n",
              "0      Procedure              AP  ...              1.00              1.00\n",
              "1      Procedure              PA  ...              0.47              0.02\n",
              "2     PatientAge           adult  ...              1.00              1.00\n",
              "3     PatientAge           child  ...              0.14              0.73\n",
              "4     PatientAge         old_age  ...              0.71              0.00\n",
              "5     PatientSex               F  ...              0.53              0.23\n",
              "6     PatientSex               M  ...              1.00              1.00\n",
              "7     PatientSex           other  ...              0.93              0.63\n",
              "\n",
              "[8 rows x 17 columns]"
            ]
          },
          "metadata": {
            "tags": []
          },
          "execution_count": 37
        }
      ]
    },
    {
      "cell_type": "code",
      "metadata": {
        "ExecuteTime": {
          "end_time": "2020-08-18T18:07:40.716625Z",
          "start_time": "2020-08-18T18:07:40.634860Z"
        },
        "colab": {
          "base_uri": "https://localhost:8080/",
          "height": 318
        },
        "id": "nkUOmsIwTRpc",
        "outputId": "e95cd2b9-84ec-4155-b11f-35e8b87df504"
      },
      "source": [
        "#Disparities calculated in relation to sample population majority group (in terms of group prevalence) for each attribute\n",
        "majority_bdf = b.get_disparity_major_group(xtab, original_df=df)\n",
        "\n",
        "majority_bdf[['attribute_name', 'attribute_value'] +  b.list_disparities(majority_bdf)].round(2)"
      ],
      "execution_count": null,
      "outputs": [
        {
          "output_type": "stream",
          "text": [
            "get_disparity_major_group()\n"
          ],
          "name": "stdout"
        },
        {
          "output_type": "execute_result",
          "data": {
            "text/html": [
              "<div>\n",
              "<style scoped>\n",
              "    .dataframe tbody tr th:only-of-type {\n",
              "        vertical-align: middle;\n",
              "    }\n",
              "\n",
              "    .dataframe tbody tr th {\n",
              "        vertical-align: top;\n",
              "    }\n",
              "\n",
              "    .dataframe thead th {\n",
              "        text-align: right;\n",
              "    }\n",
              "</style>\n",
              "<table border=\"1\" class=\"dataframe\">\n",
              "  <thead>\n",
              "    <tr style=\"text-align: right;\">\n",
              "      <th></th>\n",
              "      <th>attribute_name</th>\n",
              "      <th>attribute_value</th>\n",
              "      <th>ppr_disparity</th>\n",
              "      <th>pprev_disparity</th>\n",
              "      <th>precision_disparity</th>\n",
              "      <th>fdr_disparity</th>\n",
              "      <th>for_disparity</th>\n",
              "      <th>fpr_disparity</th>\n",
              "      <th>fnr_disparity</th>\n",
              "      <th>tpr_disparity</th>\n",
              "      <th>tnr_disparity</th>\n",
              "      <th>npv_disparity</th>\n",
              "    </tr>\n",
              "  </thead>\n",
              "  <tbody>\n",
              "    <tr>\n",
              "      <th>0</th>\n",
              "      <td>Procedure</td>\n",
              "      <td>AP</td>\n",
              "      <td>1.00</td>\n",
              "      <td>1.00</td>\n",
              "      <td>1.00</td>\n",
              "      <td>1.00</td>\n",
              "      <td>1.00</td>\n",
              "      <td>1.00</td>\n",
              "      <td>1.00</td>\n",
              "      <td>1.00</td>\n",
              "      <td>1.00</td>\n",
              "      <td>1.00</td>\n",
              "    </tr>\n",
              "    <tr>\n",
              "      <th>1</th>\n",
              "      <td>Procedure</td>\n",
              "      <td>PA</td>\n",
              "      <td>0.49</td>\n",
              "      <td>1.26</td>\n",
              "      <td>0.60</td>\n",
              "      <td>1.19</td>\n",
              "      <td>1.03</td>\n",
              "      <td>1.22</td>\n",
              "      <td>1.03</td>\n",
              "      <td>0.85</td>\n",
              "      <td>0.61</td>\n",
              "      <td>0.85</td>\n",
              "    </tr>\n",
              "    <tr>\n",
              "      <th>2</th>\n",
              "      <td>PatientAge</td>\n",
              "      <td>adult</td>\n",
              "      <td>0.82</td>\n",
              "      <td>1.66</td>\n",
              "      <td>0.52</td>\n",
              "      <td>1.29</td>\n",
              "      <td>0.98</td>\n",
              "      <td>1.35</td>\n",
              "      <td>0.98</td>\n",
              "      <td>1.14</td>\n",
              "      <td>0.52</td>\n",
              "      <td>1.09</td>\n",
              "    </tr>\n",
              "    <tr>\n",
              "      <th>3</th>\n",
              "      <td>PatientAge</td>\n",
              "      <td>child</td>\n",
              "      <td>0.23</td>\n",
              "      <td>1.22</td>\n",
              "      <td>0.45</td>\n",
              "      <td>1.33</td>\n",
              "      <td>1.08</td>\n",
              "      <td>1.39</td>\n",
              "      <td>1.07</td>\n",
              "      <td>0.59</td>\n",
              "      <td>0.46</td>\n",
              "      <td>0.59</td>\n",
              "    </tr>\n",
              "    <tr>\n",
              "      <th>4</th>\n",
              "      <td>PatientAge</td>\n",
              "      <td>old_age</td>\n",
              "      <td>1.00</td>\n",
              "      <td>1.00</td>\n",
              "      <td>1.00</td>\n",
              "      <td>1.00</td>\n",
              "      <td>1.00</td>\n",
              "      <td>1.00</td>\n",
              "      <td>1.00</td>\n",
              "      <td>1.00</td>\n",
              "      <td>1.00</td>\n",
              "      <td>1.00</td>\n",
              "    </tr>\n",
              "    <tr>\n",
              "      <th>5</th>\n",
              "      <td>PatientSex</td>\n",
              "      <td>F</td>\n",
              "      <td>0.63</td>\n",
              "      <td>1.15</td>\n",
              "      <td>1.27</td>\n",
              "      <td>0.91</td>\n",
              "      <td>1.03</td>\n",
              "      <td>1.08</td>\n",
              "      <td>0.94</td>\n",
              "      <td>1.43</td>\n",
              "      <td>0.84</td>\n",
              "      <td>0.88</td>\n",
              "    </tr>\n",
              "    <tr>\n",
              "      <th>6</th>\n",
              "      <td>PatientSex</td>\n",
              "      <td>M</td>\n",
              "      <td>1.00</td>\n",
              "      <td>1.00</td>\n",
              "      <td>1.00</td>\n",
              "      <td>1.00</td>\n",
              "      <td>1.00</td>\n",
              "      <td>1.00</td>\n",
              "      <td>1.00</td>\n",
              "      <td>1.00</td>\n",
              "      <td>1.00</td>\n",
              "      <td>1.00</td>\n",
              "    </tr>\n",
              "    <tr>\n",
              "      <th>7</th>\n",
              "      <td>PatientSex</td>\n",
              "      <td>other</td>\n",
              "      <td>0.04</td>\n",
              "      <td>1.12</td>\n",
              "      <td>0.65</td>\n",
              "      <td>1.12</td>\n",
              "      <td>0.99</td>\n",
              "      <td>1.07</td>\n",
              "      <td>1.03</td>\n",
              "      <td>0.81</td>\n",
              "      <td>0.86</td>\n",
              "      <td>1.06</td>\n",
              "    </tr>\n",
              "  </tbody>\n",
              "</table>\n",
              "</div>"
            ],
            "text/plain": [
              "  attribute_name attribute_value  ...  tnr_disparity  npv_disparity\n",
              "0      Procedure              AP  ...           1.00           1.00\n",
              "1      Procedure              PA  ...           0.61           0.85\n",
              "2     PatientAge           adult  ...           0.52           1.09\n",
              "3     PatientAge           child  ...           0.46           0.59\n",
              "4     PatientAge         old_age  ...           1.00           1.00\n",
              "5     PatientSex               F  ...           0.84           0.88\n",
              "6     PatientSex               M  ...           1.00           1.00\n",
              "7     PatientSex           other  ...           0.86           1.06\n",
              "\n",
              "[8 rows x 12 columns]"
            ]
          },
          "metadata": {
            "tags": []
          },
          "execution_count": 38
        }
      ]
    },
    {
      "cell_type": "code",
      "metadata": {
        "ExecuteTime": {
          "end_time": "2020-08-18T18:07:42.712426Z",
          "start_time": "2020-08-18T18:07:40.793131Z"
        },
        "colab": {
          "base_uri": "https://localhost:8080/",
          "height": 338
        },
        "id": "QicyjEBLTRpd",
        "outputId": "016d20ed-f45a-41a5-8b27-10151ebbcc6a"
      },
      "source": [
        "#Disparities calculated in relation to the minimum value for each metric\n",
        "min_metric_bdf = b.get_disparity_min_metric(df=xtab, original_df=df,\n",
        "                                            check_significance=False).round(2)\n",
        "min_metric_bdf #.styal"
      ],
      "execution_count": null,
      "outputs": [
        {
          "output_type": "stream",
          "text": [
            "get_disparity_min_metric()\n"
          ],
          "name": "stdout"
        },
        {
          "output_type": "execute_result",
          "data": {
            "text/html": [
              "<div>\n",
              "<style scoped>\n",
              "    .dataframe tbody tr th:only-of-type {\n",
              "        vertical-align: middle;\n",
              "    }\n",
              "\n",
              "    .dataframe tbody tr th {\n",
              "        vertical-align: top;\n",
              "    }\n",
              "\n",
              "    .dataframe thead th {\n",
              "        text-align: right;\n",
              "    }\n",
              "</style>\n",
              "<table border=\"1\" class=\"dataframe\">\n",
              "  <thead>\n",
              "    <tr style=\"text-align: right;\">\n",
              "      <th></th>\n",
              "      <th>model_id</th>\n",
              "      <th>score_threshold</th>\n",
              "      <th>k</th>\n",
              "      <th>attribute_name</th>\n",
              "      <th>attribute_value</th>\n",
              "      <th>tpr</th>\n",
              "      <th>tnr</th>\n",
              "      <th>for</th>\n",
              "      <th>fdr</th>\n",
              "      <th>fpr</th>\n",
              "      <th>fnr</th>\n",
              "      <th>npv</th>\n",
              "      <th>precision</th>\n",
              "      <th>pp</th>\n",
              "      <th>pn</th>\n",
              "      <th>ppr</th>\n",
              "      <th>pprev</th>\n",
              "      <th>fp</th>\n",
              "      <th>fn</th>\n",
              "      <th>tn</th>\n",
              "      <th>tp</th>\n",
              "      <th>group_label_pos</th>\n",
              "      <th>group_label_neg</th>\n",
              "      <th>group_size</th>\n",
              "      <th>total_entities</th>\n",
              "      <th>prev</th>\n",
              "      <th>ppr_disparity</th>\n",
              "      <th>ppr_ref_group_value</th>\n",
              "      <th>pprev_disparity</th>\n",
              "      <th>pprev_ref_group_value</th>\n",
              "      <th>precision_disparity</th>\n",
              "      <th>precision_ref_group_value</th>\n",
              "      <th>fdr_disparity</th>\n",
              "      <th>fdr_ref_group_value</th>\n",
              "      <th>for_disparity</th>\n",
              "      <th>for_ref_group_value</th>\n",
              "      <th>fpr_disparity</th>\n",
              "      <th>fpr_ref_group_value</th>\n",
              "      <th>fnr_disparity</th>\n",
              "      <th>fnr_ref_group_value</th>\n",
              "      <th>tpr_disparity</th>\n",
              "      <th>tpr_ref_group_value</th>\n",
              "      <th>tnr_disparity</th>\n",
              "      <th>tnr_ref_group_value</th>\n",
              "      <th>npv_disparity</th>\n",
              "      <th>npv_ref_group_value</th>\n",
              "    </tr>\n",
              "  </thead>\n",
              "  <tbody>\n",
              "    <tr>\n",
              "      <th>0</th>\n",
              "      <td>0</td>\n",
              "      <td>binary 0/1</td>\n",
              "      <td>269</td>\n",
              "      <td>Procedure</td>\n",
              "      <td>AP</td>\n",
              "      <td>0.15</td>\n",
              "      <td>0.36</td>\n",
              "      <td>0.83</td>\n",
              "      <td>0.68</td>\n",
              "      <td>0.64</td>\n",
              "      <td>0.85</td>\n",
              "      <td>0.17</td>\n",
              "      <td>0.32</td>\n",
              "      <td>181</td>\n",
              "      <td>403</td>\n",
              "      <td>0.67</td>\n",
              "      <td>0.31</td>\n",
              "      <td>123</td>\n",
              "      <td>334</td>\n",
              "      <td>69</td>\n",
              "      <td>58</td>\n",
              "      <td>392</td>\n",
              "      <td>192</td>\n",
              "      <td>584</td>\n",
              "      <td>810</td>\n",
              "      <td>0.67</td>\n",
              "      <td>2.06</td>\n",
              "      <td>PA</td>\n",
              "      <td>1.00</td>\n",
              "      <td>AP</td>\n",
              "      <td>1.66</td>\n",
              "      <td>PA</td>\n",
              "      <td>1.00</td>\n",
              "      <td>AP</td>\n",
              "      <td>1.00</td>\n",
              "      <td>AP</td>\n",
              "      <td>1.00</td>\n",
              "      <td>AP</td>\n",
              "      <td>1.00</td>\n",
              "      <td>AP</td>\n",
              "      <td>1.17</td>\n",
              "      <td>PA</td>\n",
              "      <td>1.64</td>\n",
              "      <td>PA</td>\n",
              "      <td>1.18</td>\n",
              "      <td>PA</td>\n",
              "    </tr>\n",
              "    <tr>\n",
              "      <th>1</th>\n",
              "      <td>0</td>\n",
              "      <td>binary 0/1</td>\n",
              "      <td>269</td>\n",
              "      <td>Procedure</td>\n",
              "      <td>PA</td>\n",
              "      <td>0.13</td>\n",
              "      <td>0.22</td>\n",
              "      <td>0.86</td>\n",
              "      <td>0.81</td>\n",
              "      <td>0.78</td>\n",
              "      <td>0.87</td>\n",
              "      <td>0.14</td>\n",
              "      <td>0.19</td>\n",
              "      <td>88</td>\n",
              "      <td>138</td>\n",
              "      <td>0.33</td>\n",
              "      <td>0.39</td>\n",
              "      <td>71</td>\n",
              "      <td>118</td>\n",
              "      <td>20</td>\n",
              "      <td>17</td>\n",
              "      <td>135</td>\n",
              "      <td>91</td>\n",
              "      <td>226</td>\n",
              "      <td>810</td>\n",
              "      <td>0.60</td>\n",
              "      <td>1.00</td>\n",
              "      <td>PA</td>\n",
              "      <td>1.26</td>\n",
              "      <td>AP</td>\n",
              "      <td>1.00</td>\n",
              "      <td>PA</td>\n",
              "      <td>1.19</td>\n",
              "      <td>AP</td>\n",
              "      <td>1.03</td>\n",
              "      <td>AP</td>\n",
              "      <td>1.22</td>\n",
              "      <td>AP</td>\n",
              "      <td>1.03</td>\n",
              "      <td>AP</td>\n",
              "      <td>1.00</td>\n",
              "      <td>PA</td>\n",
              "      <td>1.00</td>\n",
              "      <td>PA</td>\n",
              "      <td>1.00</td>\n",
              "      <td>PA</td>\n",
              "    </tr>\n",
              "    <tr>\n",
              "      <th>2</th>\n",
              "      <td>0</td>\n",
              "      <td>binary 0/1</td>\n",
              "      <td>269</td>\n",
              "      <td>PatientAge</td>\n",
              "      <td>adult</td>\n",
              "      <td>0.16</td>\n",
              "      <td>0.22</td>\n",
              "      <td>0.82</td>\n",
              "      <td>0.81</td>\n",
              "      <td>0.78</td>\n",
              "      <td>0.84</td>\n",
              "      <td>0.18</td>\n",
              "      <td>0.19</td>\n",
              "      <td>108</td>\n",
              "      <td>131</td>\n",
              "      <td>0.40</td>\n",
              "      <td>0.45</td>\n",
              "      <td>87</td>\n",
              "      <td>107</td>\n",
              "      <td>24</td>\n",
              "      <td>21</td>\n",
              "      <td>128</td>\n",
              "      <td>111</td>\n",
              "      <td>239</td>\n",
              "      <td>810</td>\n",
              "      <td>0.54</td>\n",
              "      <td>3.60</td>\n",
              "      <td>child</td>\n",
              "      <td>1.66</td>\n",
              "      <td>old_age</td>\n",
              "      <td>1.17</td>\n",
              "      <td>child</td>\n",
              "      <td>1.29</td>\n",
              "      <td>old_age</td>\n",
              "      <td>1.00</td>\n",
              "      <td>adult</td>\n",
              "      <td>1.35</td>\n",
              "      <td>old_age</td>\n",
              "      <td>1.00</td>\n",
              "      <td>adult</td>\n",
              "      <td>1.94</td>\n",
              "      <td>child</td>\n",
              "      <td>1.12</td>\n",
              "      <td>child</td>\n",
              "      <td>1.83</td>\n",
              "      <td>child</td>\n",
              "    </tr>\n",
              "    <tr>\n",
              "      <th>3</th>\n",
              "      <td>0</td>\n",
              "      <td>binary 0/1</td>\n",
              "      <td>269</td>\n",
              "      <td>PatientAge</td>\n",
              "      <td>child</td>\n",
              "      <td>0.08</td>\n",
              "      <td>0.19</td>\n",
              "      <td>0.90</td>\n",
              "      <td>0.83</td>\n",
              "      <td>0.81</td>\n",
              "      <td>0.92</td>\n",
              "      <td>0.10</td>\n",
              "      <td>0.17</td>\n",
              "      <td>30</td>\n",
              "      <td>60</td>\n",
              "      <td>0.11</td>\n",
              "      <td>0.33</td>\n",
              "      <td>25</td>\n",
              "      <td>54</td>\n",
              "      <td>6</td>\n",
              "      <td>5</td>\n",
              "      <td>59</td>\n",
              "      <td>31</td>\n",
              "      <td>90</td>\n",
              "      <td>810</td>\n",
              "      <td>0.66</td>\n",
              "      <td>1.00</td>\n",
              "      <td>child</td>\n",
              "      <td>1.22</td>\n",
              "      <td>old_age</td>\n",
              "      <td>1.00</td>\n",
              "      <td>child</td>\n",
              "      <td>1.33</td>\n",
              "      <td>old_age</td>\n",
              "      <td>1.10</td>\n",
              "      <td>adult</td>\n",
              "      <td>1.39</td>\n",
              "      <td>old_age</td>\n",
              "      <td>1.09</td>\n",
              "      <td>adult</td>\n",
              "      <td>1.00</td>\n",
              "      <td>child</td>\n",
              "      <td>1.00</td>\n",
              "      <td>child</td>\n",
              "      <td>1.00</td>\n",
              "      <td>child</td>\n",
              "    </tr>\n",
              "    <tr>\n",
              "      <th>4</th>\n",
              "      <td>0</td>\n",
              "      <td>binary 0/1</td>\n",
              "      <td>269</td>\n",
              "      <td>PatientAge</td>\n",
              "      <td>old_age</td>\n",
              "      <td>0.14</td>\n",
              "      <td>0.42</td>\n",
              "      <td>0.83</td>\n",
              "      <td>0.63</td>\n",
              "      <td>0.58</td>\n",
              "      <td>0.86</td>\n",
              "      <td>0.17</td>\n",
              "      <td>0.37</td>\n",
              "      <td>131</td>\n",
              "      <td>350</td>\n",
              "      <td>0.49</td>\n",
              "      <td>0.27</td>\n",
              "      <td>82</td>\n",
              "      <td>291</td>\n",
              "      <td>59</td>\n",
              "      <td>49</td>\n",
              "      <td>340</td>\n",
              "      <td>141</td>\n",
              "      <td>481</td>\n",
              "      <td>810</td>\n",
              "      <td>0.71</td>\n",
              "      <td>4.37</td>\n",
              "      <td>child</td>\n",
              "      <td>1.00</td>\n",
              "      <td>old_age</td>\n",
              "      <td>2.24</td>\n",
              "      <td>child</td>\n",
              "      <td>1.00</td>\n",
              "      <td>old_age</td>\n",
              "      <td>1.02</td>\n",
              "      <td>adult</td>\n",
              "      <td>1.00</td>\n",
              "      <td>old_age</td>\n",
              "      <td>1.02</td>\n",
              "      <td>adult</td>\n",
              "      <td>1.70</td>\n",
              "      <td>child</td>\n",
              "      <td>2.16</td>\n",
              "      <td>child</td>\n",
              "      <td>1.69</td>\n",
              "      <td>child</td>\n",
              "    </tr>\n",
              "    <tr>\n",
              "      <th>5</th>\n",
              "      <td>0</td>\n",
              "      <td>binary 0/1</td>\n",
              "      <td>269</td>\n",
              "      <td>PatientSex</td>\n",
              "      <td>F</td>\n",
              "      <td>0.18</td>\n",
              "      <td>0.28</td>\n",
              "      <td>0.85</td>\n",
              "      <td>0.68</td>\n",
              "      <td>0.72</td>\n",
              "      <td>0.82</td>\n",
              "      <td>0.15</td>\n",
              "      <td>0.32</td>\n",
              "      <td>102</td>\n",
              "      <td>180</td>\n",
              "      <td>0.38</td>\n",
              "      <td>0.36</td>\n",
              "      <td>69</td>\n",
              "      <td>153</td>\n",
              "      <td>27</td>\n",
              "      <td>33</td>\n",
              "      <td>186</td>\n",
              "      <td>96</td>\n",
              "      <td>282</td>\n",
              "      <td>810</td>\n",
              "      <td>0.66</td>\n",
              "      <td>17.00</td>\n",
              "      <td>other</td>\n",
              "      <td>1.15</td>\n",
              "      <td>M</td>\n",
              "      <td>1.94</td>\n",
              "      <td>other</td>\n",
              "      <td>1.00</td>\n",
              "      <td>F</td>\n",
              "      <td>1.04</td>\n",
              "      <td>other</td>\n",
              "      <td>1.08</td>\n",
              "      <td>M</td>\n",
              "      <td>1.00</td>\n",
              "      <td>F</td>\n",
              "      <td>1.77</td>\n",
              "      <td>other</td>\n",
              "      <td>1.00</td>\n",
              "      <td>F</td>\n",
              "      <td>1.00</td>\n",
              "      <td>F</td>\n",
              "    </tr>\n",
              "    <tr>\n",
              "      <th>6</th>\n",
              "      <td>0</td>\n",
              "      <td>binary 0/1</td>\n",
              "      <td>269</td>\n",
              "      <td>PatientSex</td>\n",
              "      <td>M</td>\n",
              "      <td>0.12</td>\n",
              "      <td>0.33</td>\n",
              "      <td>0.83</td>\n",
              "      <td>0.75</td>\n",
              "      <td>0.67</td>\n",
              "      <td>0.88</td>\n",
              "      <td>0.17</td>\n",
              "      <td>0.25</td>\n",
              "      <td>161</td>\n",
              "      <td>350</td>\n",
              "      <td>0.60</td>\n",
              "      <td>0.32</td>\n",
              "      <td>120</td>\n",
              "      <td>290</td>\n",
              "      <td>60</td>\n",
              "      <td>41</td>\n",
              "      <td>331</td>\n",
              "      <td>180</td>\n",
              "      <td>511</td>\n",
              "      <td>810</td>\n",
              "      <td>0.65</td>\n",
              "      <td>26.83</td>\n",
              "      <td>other</td>\n",
              "      <td>1.00</td>\n",
              "      <td>M</td>\n",
              "      <td>1.53</td>\n",
              "      <td>other</td>\n",
              "      <td>1.10</td>\n",
              "      <td>F</td>\n",
              "      <td>1.01</td>\n",
              "      <td>other</td>\n",
              "      <td>1.00</td>\n",
              "      <td>M</td>\n",
              "      <td>1.07</td>\n",
              "      <td>F</td>\n",
              "      <td>1.24</td>\n",
              "      <td>other</td>\n",
              "      <td>1.19</td>\n",
              "      <td>F</td>\n",
              "      <td>1.14</td>\n",
              "      <td>F</td>\n",
              "    </tr>\n",
              "    <tr>\n",
              "      <th>7</th>\n",
              "      <td>0</td>\n",
              "      <td>binary 0/1</td>\n",
              "      <td>269</td>\n",
              "      <td>PatientSex</td>\n",
              "      <td>other</td>\n",
              "      <td>0.10</td>\n",
              "      <td>0.29</td>\n",
              "      <td>0.82</td>\n",
              "      <td>0.83</td>\n",
              "      <td>0.71</td>\n",
              "      <td>0.90</td>\n",
              "      <td>0.18</td>\n",
              "      <td>0.17</td>\n",
              "      <td>6</td>\n",
              "      <td>11</td>\n",
              "      <td>0.02</td>\n",
              "      <td>0.35</td>\n",
              "      <td>5</td>\n",
              "      <td>9</td>\n",
              "      <td>2</td>\n",
              "      <td>1</td>\n",
              "      <td>10</td>\n",
              "      <td>7</td>\n",
              "      <td>17</td>\n",
              "      <td>810</td>\n",
              "      <td>0.59</td>\n",
              "      <td>1.00</td>\n",
              "      <td>other</td>\n",
              "      <td>1.12</td>\n",
              "      <td>M</td>\n",
              "      <td>1.00</td>\n",
              "      <td>other</td>\n",
              "      <td>1.23</td>\n",
              "      <td>F</td>\n",
              "      <td>1.00</td>\n",
              "      <td>other</td>\n",
              "      <td>1.07</td>\n",
              "      <td>M</td>\n",
              "      <td>1.09</td>\n",
              "      <td>F</td>\n",
              "      <td>1.00</td>\n",
              "      <td>other</td>\n",
              "      <td>1.02</td>\n",
              "      <td>F</td>\n",
              "      <td>1.21</td>\n",
              "      <td>F</td>\n",
              "    </tr>\n",
              "  </tbody>\n",
              "</table>\n",
              "</div>"
            ],
            "text/plain": [
              "   model_id score_threshold  ...  npv_disparity npv_ref_group_value\n",
              "0         0      binary 0/1  ...           1.18                  PA\n",
              "1         0      binary 0/1  ...           1.00                  PA\n",
              "2         0      binary 0/1  ...           1.83               child\n",
              "3         0      binary 0/1  ...           1.00               child\n",
              "4         0      binary 0/1  ...           1.69               child\n",
              "5         0      binary 0/1  ...           1.00                   F\n",
              "6         0      binary 0/1  ...           1.14                   F\n",
              "7         0      binary 0/1  ...           1.21                   F\n",
              "\n",
              "[8 rows x 46 columns]"
            ]
          },
          "metadata": {
            "tags": []
          },
          "execution_count": 51
        }
      ]
    },
    {
      "cell_type": "markdown",
      "metadata": {
        "id": "w0mfRit4TRpd"
      },
      "source": [
        "### Visualize  Disparities in model?\n"
      ]
    },
    {
      "cell_type": "markdown",
      "metadata": {
        "id": "lDhidMoLOtf_"
      },
      "source": [
        "- input >> dataframe from `Bias()` class \n",
        "- method >> **`get_disparity_`**\n",
        "- visualize >>  `Plot()` class:\n",
        "  - `plot_disparity()`\n",
        "  - `plot_disparity_all()`\n",
        "\n",
        "\n",
        "**Reference groups are displayed in grey, and always have a disparity = 1.** Note that disparities greater than 10x reference group will are visualized as 10x, and disparities less than 0.1x reference group are visualized as 0.1x.\n",
        "\n",
        "Statistical siginificance (at a default value of 0.05) is denoted by two asterisks (**) next to a treemap square's value.\n",
        "\n",
        "**Note**: Groups are visualized at no less than 0.1 times the size of the reference group, and no more than 10 times the size of the reference group."
      ]
    },
    {
      "cell_type": "code",
      "metadata": {
        "ExecuteTime": {
          "end_time": "2020-08-18T18:07:43.573399Z",
          "start_time": "2020-08-18T18:07:42.872977Z"
        },
        "colab": {
          "base_uri": "https://localhost:8080/",
          "height": 329
        },
        "id": "9O-LEieYTRpe",
        "outputId": "057b8782-2cd5-427f-e5dc-9da731cf3bce"
      },
      "source": [
        "#Visualizing disparities between groups in a single user-specified attribute for a single user-specified disparity metric\n",
        "aqp.plot_disparity(bdf, group_metric='fpr_disparity', attribute_name='PatientSex', significance_alpha=0.05)"
      ],
      "execution_count": null,
      "outputs": [
        {
          "output_type": "stream",
          "text": [
            "/usr/local/lib/python3.6/dist-packages/matplotlib/colors.py:263: VisibleDeprecationWarning: Creating an ndarray from ragged nested sequences (which is a list-or-tuple of lists-or-tuples-or ndarrays with different lengths or shapes) is deprecated. If you meant to do this, you must specify 'dtype=object' when creating the ndarray\n",
            "  c = np.array(c)\n"
          ],
          "name": "stderr"
        },
        {
          "output_type": "display_data",
          "data": {
            "image/png": "[encoded data removed]",
            "text/plain": [
              "<Figure size 360x288 with 2 Axes>"
            ]
          },
          "metadata": {
            "tags": [],
            "needs_background": "light"
          }
        }
      ]
    },
    {
      "cell_type": "code",
      "metadata": {
        "ExecuteTime": {
          "end_time": "2020-08-18T18:07:44.022664Z",
          "start_time": "2020-08-18T18:07:43.582433Z"
        },
        "colab": {
          "base_uri": "https://localhost:8080/",
          "height": 329
        },
        "id": "XqrzFURYTRpe",
        "outputId": "6390fb13-461e-439d-ca1b-a3daf6c9d7b0"
      },
      "source": [
        "aqp.plot_disparity(hbdf, group_metric='fpr_disparity', attribute_name='PatientSex', significance_alpha=0.05)"
      ],
      "execution_count": null,
      "outputs": [
        {
          "output_type": "stream",
          "text": [
            "/usr/local/lib/python3.6/dist-packages/matplotlib/colors.py:263: VisibleDeprecationWarning: Creating an ndarray from ragged nested sequences (which is a list-or-tuple of lists-or-tuples-or ndarrays with different lengths or shapes) is deprecated. If you meant to do this, you must specify 'dtype=object' when creating the ndarray\n",
            "  c = np.array(c)\n"
          ],
          "name": "stderr"
        },
        {
          "output_type": "display_data",
          "data": {
            "image/png": "[encoded data removed]",
            "text/plain": [
              "<Figure size 360x288 with 2 Axes>"
            ]
          },
          "metadata": {
            "tags": [],
            "needs_background": "light"
          }
        }
      ]
    },
    {
      "cell_type": "code",
      "metadata": {
        "ExecuteTime": {
          "end_time": "2020-08-18T18:07:45.463165Z",
          "start_time": "2020-08-18T18:07:44.025742Z"
        },
        "colab": {
          "base_uri": "https://localhost:8080/",
          "height": 644
        },
        "id": "m0-c-p3STRpe",
        "outputId": "189eebe8-fd00-4cd4-f5b7-f9c072301f19"
      },
      "source": [
        "#Visualizing disparities between all groups for a single user-specified disparity metric\n",
        "j = aqp.plot_disparity_all(majority_bdf, metrics=['precision_disparity'], significance_alpha=0.05)"
      ],
      "execution_count": null,
      "outputs": [
        {
          "output_type": "stream",
          "text": [
            "/usr/local/lib/python3.6/dist-packages/matplotlib/colors.py:263: VisibleDeprecationWarning: Creating an ndarray from ragged nested sequences (which is a list-or-tuple of lists-or-tuples-or ndarrays with different lengths or shapes) is deprecated. If you meant to do this, you must specify 'dtype=object' when creating the ndarray\n",
            "  c = np.array(c)\n",
            "/usr/local/lib/python3.6/dist-packages/matplotlib/colors.py:263: VisibleDeprecationWarning: Creating an ndarray from ragged nested sequences (which is a list-or-tuple of lists-or-tuples-or ndarrays with different lengths or shapes) is deprecated. If you meant to do this, you must specify 'dtype=object' when creating the ndarray\n",
            "  c = np.array(c)\n",
            "/usr/local/lib/python3.6/dist-packages/matplotlib/colors.py:263: VisibleDeprecationWarning: Creating an ndarray from ragged nested sequences (which is a list-or-tuple of lists-or-tuples-or ndarrays with different lengths or shapes) is deprecated. If you meant to do this, you must specify 'dtype=object' when creating the ndarray\n",
            "  c = np.array(c)\n"
          ],
          "name": "stderr"
        },
        {
          "output_type": "display_data",
          "data": {
            "image/png": "[encoded data removed]",
            "text/plain": [
              "<Figure size 1800x576 with 6 Axes>"
            ]
          },
          "metadata": {
            "tags": [],
            "needs_background": "light"
          }
        }
      ]
    },
    {
      "cell_type": "markdown",
      "metadata": {
        "id": "wOd-HeVkTRpe"
      },
      "source": [
        "### Visualize Disparities between groups\n"
      ]
    },
    {
      "cell_type": "markdown",
      "metadata": {
        "id": "hqAjcTsbPhDI"
      },
      "source": [
        "Disparities Metrics :\n",
        "\n",
        "| Metric | Column Name |\n",
        "| --- | --- |\n",
        "| Predicted Positive Group Rate Disparity | pprev_disparity|\n",
        "| Predicted Positive Rate Disparity | ppr_disparity|\n",
        "| False Discovery Rate Disparity | fdr_disparity|\n",
        "| False Omission Rate Disparity | for_disparity|\n",
        "| False Positive Rate Disparity | fpr_disparity|\n",
        "| False Negative Rate Disparity | fnr_disparity|"
      ]
    },
    {
      "cell_type": "code",
      "metadata": {
        "ExecuteTime": {
          "end_time": "2020-08-18T18:07:48.216011Z",
          "start_time": "2020-08-18T18:07:45.469178Z"
        },
        "colab": {
          "base_uri": "https://localhost:8080/",
          "height": 1000
        },
        "id": "PrhF4xDtTRpf",
        "outputId": "36d90352-163b-4be4-8f26-7abe3ca9d452"
      },
      "source": [
        "min_met = aqp.plot_disparity_all(min_metric_bdf, attributes=['PatientAge'], significance_alpha=0.05)"
      ],
      "execution_count": null,
      "outputs": [
        {
          "output_type": "stream",
          "text": [
            "/usr/local/lib/python3.6/dist-packages/matplotlib/colors.py:263: VisibleDeprecationWarning: Creating an ndarray from ragged nested sequences (which is a list-or-tuple of lists-or-tuples-or ndarrays with different lengths or shapes) is deprecated. If you meant to do this, you must specify 'dtype=object' when creating the ndarray\n",
            "  c = np.array(c)\n",
            "/usr/local/lib/python3.6/dist-packages/matplotlib/colors.py:263: VisibleDeprecationWarning: Creating an ndarray from ragged nested sequences (which is a list-or-tuple of lists-or-tuples-or ndarrays with different lengths or shapes) is deprecated. If you meant to do this, you must specify 'dtype=object' when creating the ndarray\n",
            "  c = np.array(c)\n",
            "/usr/local/lib/python3.6/dist-packages/matplotlib/colors.py:263: VisibleDeprecationWarning: Creating an ndarray from ragged nested sequences (which is a list-or-tuple of lists-or-tuples-or ndarrays with different lengths or shapes) is deprecated. If you meant to do this, you must specify 'dtype=object' when creating the ndarray\n",
            "  c = np.array(c)\n",
            "/usr/local/lib/python3.6/dist-packages/matplotlib/colors.py:263: VisibleDeprecationWarning: Creating an ndarray from ragged nested sequences (which is a list-or-tuple of lists-or-tuples-or ndarrays with different lengths or shapes) is deprecated. If you meant to do this, you must specify 'dtype=object' when creating the ndarray\n",
            "  c = np.array(c)\n",
            "/usr/local/lib/python3.6/dist-packages/matplotlib/colors.py:263: VisibleDeprecationWarning: Creating an ndarray from ragged nested sequences (which is a list-or-tuple of lists-or-tuples-or ndarrays with different lengths or shapes) is deprecated. If you meant to do this, you must specify 'dtype=object' when creating the ndarray\n",
            "  c = np.array(c)\n",
            "/usr/local/lib/python3.6/dist-packages/matplotlib/colors.py:263: VisibleDeprecationWarning: Creating an ndarray from ragged nested sequences (which is a list-or-tuple of lists-or-tuples-or ndarrays with different lengths or shapes) is deprecated. If you meant to do this, you must specify 'dtype=object' when creating the ndarray\n",
            "  c = np.array(c)\n"
          ],
          "name": "stderr"
        },
        {
          "output_type": "display_data",
          "data": {
            "image/png": "[encoded data removed]",
            "text/plain": [
              "<Figure size 1800x1152 with 12 Axes>"
            ]
          },
          "metadata": {
            "tags": [],
            "needs_background": "light"
          }
        }
      ]
    },
    {
      "cell_type": "code",
      "metadata": {
        "ExecuteTime": {
          "end_time": "2020-08-18T18:07:54.276711Z",
          "start_time": "2020-08-18T18:07:52.716235Z"
        },
        "scrolled": true,
        "id": "Gk9mShhhTRph",
        "colab": {
          "base_uri": "https://localhost:8080/",
          "height": 1000
        },
        "outputId": "3c718a6a-c9bc-4f4f-cfc5-34d5628a5fe9"
      },
      "source": [
        "#Visualizing disparity between all groups for specified disparity metrics\n",
        "dp = aqp.plot_disparity_all(majority_bdf, metrics=['for_disparity', 'fpr_disparity'], significance_alpha=0.05)"
      ],
      "execution_count": null,
      "outputs": [
        {
          "output_type": "stream",
          "text": [
            "/usr/local/lib/python3.6/dist-packages/matplotlib/colors.py:263: VisibleDeprecationWarning: Creating an ndarray from ragged nested sequences (which is a list-or-tuple of lists-or-tuples-or ndarrays with different lengths or shapes) is deprecated. If you meant to do this, you must specify 'dtype=object' when creating the ndarray\n",
            "  c = np.array(c)\n",
            "/usr/local/lib/python3.6/dist-packages/matplotlib/colors.py:263: VisibleDeprecationWarning: Creating an ndarray from ragged nested sequences (which is a list-or-tuple of lists-or-tuples-or ndarrays with different lengths or shapes) is deprecated. If you meant to do this, you must specify 'dtype=object' when creating the ndarray\n",
            "  c = np.array(c)\n",
            "/usr/local/lib/python3.6/dist-packages/matplotlib/colors.py:263: VisibleDeprecationWarning: Creating an ndarray from ragged nested sequences (which is a list-or-tuple of lists-or-tuples-or ndarrays with different lengths or shapes) is deprecated. If you meant to do this, you must specify 'dtype=object' when creating the ndarray\n",
            "  c = np.array(c)\n",
            "/usr/local/lib/python3.6/dist-packages/matplotlib/colors.py:263: VisibleDeprecationWarning: Creating an ndarray from ragged nested sequences (which is a list-or-tuple of lists-or-tuples-or ndarrays with different lengths or shapes) is deprecated. If you meant to do this, you must specify 'dtype=object' when creating the ndarray\n",
            "  c = np.array(c)\n",
            "/usr/local/lib/python3.6/dist-packages/matplotlib/colors.py:263: VisibleDeprecationWarning: Creating an ndarray from ragged nested sequences (which is a list-or-tuple of lists-or-tuples-or ndarrays with different lengths or shapes) is deprecated. If you meant to do this, you must specify 'dtype=object' when creating the ndarray\n",
            "  c = np.array(c)\n",
            "/usr/local/lib/python3.6/dist-packages/matplotlib/colors.py:263: VisibleDeprecationWarning: Creating an ndarray from ragged nested sequences (which is a list-or-tuple of lists-or-tuples-or ndarrays with different lengths or shapes) is deprecated. If you meant to do this, you must specify 'dtype=object' when creating the ndarray\n",
            "  c = np.array(c)\n"
          ],
          "name": "stderr"
        },
        {
          "output_type": "display_data",
          "data": {
            "image/png": "[encoded data removed]",
            "text/plain": [
              "<Figure size 1800x1152 with 12 Axes>"
            ]
          },
          "metadata": {
            "tags": [],
            "needs_background": "light"
          }
        }
      ]
    },
    {
      "cell_type": "code",
      "metadata": {
        "ExecuteTime": {
          "end_time": "2020-08-18T18:07:52.697756Z",
          "start_time": "2020-08-18T18:07:48.217832Z"
        },
        "colab": {
          "base_uri": "https://localhost:8080/",
          "height": 1000
        },
        "id": "HaPUrhcTTRpg",
        "outputId": "8b6008fc-1a6d-45f1-9e7f-e293e38decd3"
      },
      "source": [
        "#Visualizing disparities between groups for all calculated disparity metrics\n",
        "tm_capped = aqp.plot_disparity_all(hbdf, attributes=['PatientAge'], metrics = 'all', significance_alpha=0.05)"
      ],
      "execution_count": null,
      "outputs": [
        {
          "output_type": "stream",
          "text": [
            "/usr/local/lib/python3.6/dist-packages/matplotlib/colors.py:263: VisibleDeprecationWarning: Creating an ndarray from ragged nested sequences (which is a list-or-tuple of lists-or-tuples-or ndarrays with different lengths or shapes) is deprecated. If you meant to do this, you must specify 'dtype=object' when creating the ndarray\n",
            "  c = np.array(c)\n",
            "/usr/local/lib/python3.6/dist-packages/matplotlib/colors.py:263: VisibleDeprecationWarning: Creating an ndarray from ragged nested sequences (which is a list-or-tuple of lists-or-tuples-or ndarrays with different lengths or shapes) is deprecated. If you meant to do this, you must specify 'dtype=object' when creating the ndarray\n",
            "  c = np.array(c)\n",
            "/usr/local/lib/python3.6/dist-packages/matplotlib/colors.py:263: VisibleDeprecationWarning: Creating an ndarray from ragged nested sequences (which is a list-or-tuple of lists-or-tuples-or ndarrays with different lengths or shapes) is deprecated. If you meant to do this, you must specify 'dtype=object' when creating the ndarray\n",
            "  c = np.array(c)\n",
            "/usr/local/lib/python3.6/dist-packages/matplotlib/colors.py:263: VisibleDeprecationWarning: Creating an ndarray from ragged nested sequences (which is a list-or-tuple of lists-or-tuples-or ndarrays with different lengths or shapes) is deprecated. If you meant to do this, you must specify 'dtype=object' when creating the ndarray\n",
            "  c = np.array(c)\n",
            "/usr/local/lib/python3.6/dist-packages/matplotlib/colors.py:263: VisibleDeprecationWarning: Creating an ndarray from ragged nested sequences (which is a list-or-tuple of lists-or-tuples-or ndarrays with different lengths or shapes) is deprecated. If you meant to do this, you must specify 'dtype=object' when creating the ndarray\n",
            "  c = np.array(c)\n",
            "/usr/local/lib/python3.6/dist-packages/matplotlib/colors.py:263: VisibleDeprecationWarning: Creating an ndarray from ragged nested sequences (which is a list-or-tuple of lists-or-tuples-or ndarrays with different lengths or shapes) is deprecated. If you meant to do this, you must specify 'dtype=object' when creating the ndarray\n",
            "  c = np.array(c)\n",
            "/usr/local/lib/python3.6/dist-packages/matplotlib/colors.py:263: VisibleDeprecationWarning: Creating an ndarray from ragged nested sequences (which is a list-or-tuple of lists-or-tuples-or ndarrays with different lengths or shapes) is deprecated. If you meant to do this, you must specify 'dtype=object' when creating the ndarray\n",
            "  c = np.array(c)\n",
            "/usr/local/lib/python3.6/dist-packages/matplotlib/colors.py:263: VisibleDeprecationWarning: Creating an ndarray from ragged nested sequences (which is a list-or-tuple of lists-or-tuples-or ndarrays with different lengths or shapes) is deprecated. If you meant to do this, you must specify 'dtype=object' when creating the ndarray\n",
            "  c = np.array(c)\n",
            "/usr/local/lib/python3.6/dist-packages/matplotlib/colors.py:263: VisibleDeprecationWarning: Creating an ndarray from ragged nested sequences (which is a list-or-tuple of lists-or-tuples-or ndarrays with different lengths or shapes) is deprecated. If you meant to do this, you must specify 'dtype=object' when creating the ndarray\n",
            "  c = np.array(c)\n",
            "/usr/local/lib/python3.6/dist-packages/matplotlib/colors.py:263: VisibleDeprecationWarning: Creating an ndarray from ragged nested sequences (which is a list-or-tuple of lists-or-tuples-or ndarrays with different lengths or shapes) is deprecated. If you meant to do this, you must specify 'dtype=object' when creating the ndarray\n",
            "  c = np.array(c)\n"
          ],
          "name": "stderr"
        },
        {
          "output_type": "display_data",
          "data": {
            "image/png": "[encoded data removed]",
            "text/plain": [
              "<Figure size 1800x2304 with 22 Axes>"
            ]
          },
          "metadata": {
            "tags": [],
            "needs_background": "light"
          }
        }
      ]
    },
    {
      "cell_type": "markdown",
      "metadata": {
        "id": "x7lN9JQ2TRph"
      },
      "source": [
        "# Fairness?\n",
        "\n",
        "_Aequitas Fairness() Class_\n",
        "\n",
        "Using FPR disparity as an example and the default fairness threshold, we have:\n",
        "\n",
        "$$ 0.8 < Disparity_{FNR} =  \\frac{FPR_{group}}{FPR_{base group}} < 1.25 $$ "
      ]
    },
    {
      "cell_type": "markdown",
      "metadata": {
        "id": "9MbQU_uDTRph"
      },
      "source": [
        "### Group Level Fairness\n",
        "When the `label_value` column is not included in the original data set, Aequitas calculates only Statistical Parity and Impact Parities.\n",
        "\n",
        "#### Pairities Calcuated:\n",
        "\n",
        "| Parity | Column Name |\n",
        "| --- | --- |\n",
        "| True Positive Rate Parity | 'TPR Parity' |\n",
        "| True Negative Rate Parity | 'TNR Parity' |\n",
        "| False Omission Rate Parity | 'FOR Parity' |\n",
        "| False Discovery Rate Parity | 'FDR Parity' |\n",
        "| False Positive Rate Parity | 'FPR Parity' |\n",
        "| False Negative Rate Parity | 'FNR Parity' |\n",
        "| Negative Predictive Value Parity | 'NPV Parity' |\n",
        "| Precision Parity | 'Precision Parity' |\n",
        "| Predicted Positive Ratio$_k$ Parity | 'Statistical Parity' |\n",
        "| Predicted Positive Ratio$_g$ Parity | 'Impact Parity' |\n",
        "\n",
        "#### Also assessed:\n",
        "- **_Type I Parity_**: Fairness in both FDR Parity and FPR Parity\n",
        "- **_Type II Parity_**: Fairness in both FOR Parity and FNR Parity\n",
        "- **_Equalized Odds_**: Fairness in both FPR Parity and TPR Parity\n",
        "- **_Unsupervised Fairness_**: Fairness in both Statistical Parity and Impact Parity\n",
        "- **_Supervised Fairness_**: Fairness in both Type I and Type II Parity\n",
        "- **_Overall Fairness_**: Fairness across all parities for all attributes"
      ]
    },
    {
      "cell_type": "code",
      "metadata": {
        "ExecuteTime": {
          "end_time": "2020-08-18T18:07:54.322398Z",
          "start_time": "2020-08-18T18:07:54.279574Z"
        },
        "id": "Z0qQfvUUTRph"
      },
      "source": [
        "f = Fairness()\n",
        "fdf = f.get_group_value_fairness(bdf)"
      ],
      "execution_count": null,
      "outputs": []
    },
    {
      "cell_type": "markdown",
      "metadata": {
        "id": "R8GjBoyeTRph"
      },
      "source": [
        "The `Fairness()` class includes a method to quickly return a list of fairness determinations from the dataframe returned by the **`get_group_value_fairness()`** method."
      ]
    },
    {
      "cell_type": "code",
      "metadata": {
        "ExecuteTime": {
          "end_time": "2020-08-18T18:07:54.353196Z",
          "start_time": "2020-08-18T18:07:54.325343Z"
        },
        "id": "smhzYNHcTRph"
      },
      "source": [
        "parity_detrminations = f.list_parities(fdf)"
      ],
      "execution_count": null,
      "outputs": []
    },
    {
      "cell_type": "code",
      "metadata": {
        "id": "j96S31TQzieJ"
      },
      "source": [
        "#fdf[['attribute_name', 'attribute_value'] + absolute_metrics + b.list_disparities(fdf) + parity_detrminations].style\n",
        "fdf[['attribute_name', 'attribute_value'] + absolute_metrics].style\n",
        "fdf[['attribute_name', 'attribute_value'] +  b.list_disparities(fdf)].style\n",
        "fdf[['attribute_name', 'attribute_value']  + parity_detrminations].style"
      ],
      "execution_count": null,
      "outputs": []
    },
    {
      "cell_type": "code",
      "metadata": {
        "id": "8TIidYXO1CBU"
      },
      "source": [
        "fdf1 = fdf[['attribute_name', 'attribute_value'] + absolute_metrics]\n",
        "fdf2 = fdf[['attribute_name', 'attribute_value'] +  b.list_disparities(fdf)]\n",
        "fdf3 = fdf[['attribute_name', 'attribute_value']  + parity_detrminations]"
      ],
      "execution_count": null,
      "outputs": []
    },
    {
      "cell_type": "markdown",
      "metadata": {
        "id": "X-EP0OwtTRpj"
      },
      "source": [
        "### Attribute Level Fairness\n"
      ]
    },
    {
      "cell_type": "code",
      "metadata": {
        "ExecuteTime": {
          "end_time": "2020-08-18T18:07:54.852857Z",
          "start_time": "2020-08-18T18:07:54.414166Z"
        },
        "id": "B0XLtVwmTRpj"
      },
      "source": [
        "gaf = f.get_group_attribute_fairness(fdf)\n",
        "gaf"
      ],
      "execution_count": null,
      "outputs": []
    },
    {
      "cell_type": "code",
      "metadata": {
        "id": "3tFVBnStXXBZ"
      },
      "source": [
        "gaf2 =  gaf.columns[1:5]"
      ],
      "execution_count": null,
      "outputs": []
    },
    {
      "cell_type": "markdown",
      "metadata": {
        "id": "8D4AMem7TRpj"
      },
      "source": [
        "### Overall Fairness\n",
        "The **`get_overall_fairness()`** function gives a quick boolean assessment of the output of **`get_group_value_fairness()`** or **`get_group_attribute_fairness()`**, returning a dictionary with a determination across all attributes for each of:\n",
        "- Unsupervised Fairness\n",
        "- Supervised Fairness\n",
        "- Overall Fairness"
      ]
    },
    {
      "cell_type": "code",
      "metadata": {
        "ExecuteTime": {
          "end_time": "2020-08-18T18:07:54.881022Z",
          "start_time": "2020-08-18T18:07:54.874115Z"
        },
        "id": "Iclum6_kTRpj"
      },
      "source": [
        "gof = f.get_overall_fairness(fdf)\n",
        "gof"
      ],
      "execution_count": null,
      "outputs": []
    },
    {
      "cell_type": "markdown",
      "metadata": {
        "id": "9a3rvElNTRpj"
      },
      "source": [
        "# Bias metric parity - Visualization?\n"
      ]
    },
    {
      "cell_type": "markdown",
      "metadata": {
        "id": "RIybCdLNTRpk"
      },
      "source": [
        "colored based on fairness determination for that attribute group \n",
        "- green = 'True' \n",
        "- red = 'False' "
      ]
    },
    {
      "cell_type": "code",
      "metadata": {
        "ExecuteTime": {
          "end_time": "2020-08-18T18:07:55.273502Z",
          "start_time": "2020-08-18T18:07:54.887907Z"
        },
        "scrolled": false,
        "id": "09xsCqG3TRpk"
      },
      "source": [
        "#Visualizing parity of a single absolute group metric across all population groups\n",
        "z = aqp.plot_fairness_group(fdf, group_metric='ppr')"
      ],
      "execution_count": null,
      "outputs": []
    },
    {
      "cell_type": "code",
      "metadata": {
        "ExecuteTime": {
          "end_time": "2020-08-18T18:07:58.188129Z",
          "start_time": "2020-08-18T18:07:55.282575Z"
        },
        "id": "hQzGFK2UTRpk"
      },
      "source": [
        "#Visualizing all absolute group metrics across all population groups\n",
        "fg = aqp.plot_fairness_group_all(fdf, ncols=5, metrics = \"all\")"
      ],
      "execution_count": null,
      "outputs": []
    },
    {
      "cell_type": "markdown",
      "metadata": {
        "id": "fOiS6Fq2TRpl"
      },
      "source": [
        "False Discovery Rate disparity values - based on a predefined reference group \n",
        "- colored based on fairness determination for that attribute group \n",
        "  - green = 'True'\n",
        "  - red = 'False'"
      ]
    },
    {
      "cell_type": "code",
      "metadata": {
        "ExecuteTime": {
          "end_time": "2020-08-18T18:07:58.464677Z",
          "start_time": "2020-08-18T18:07:58.192370Z"
        },
        "id": "2ZLggSz0TRpl"
      },
      "source": [
        "#Visualizing parity between groups in a single user-specified attribute for all calculated disparity metrics\n",
        "m = aqp.plot_fairness_disparity(fdf, group_metric='fdr', attribute_name='PatientSex')"
      ],
      "execution_count": null,
      "outputs": []
    },
    {
      "cell_type": "markdown",
      "metadata": {
        "id": "-WldYGHFTRpn"
      },
      "source": [
        "Researcher Check: Could the unfairness I am seeing be related to small group sizes in my sample?\n",
        "\n",
        "\n",
        "---\n",
        "\n",
        "\n",
        "\n",
        "Use the `min_group` parameter on all visualization methods to vizualize parities for only those sample population groups above a user-specified percentage of the total sample size. Note that only the smallest groups had an 'False' determination for false discovery rate parity above. The parity determination is 'True' for all groups at least 1% of the sample size ."
      ]
    },
    {
      "cell_type": "code",
      "metadata": {
        "ExecuteTime": {
          "end_time": "2020-08-18T18:07:58.995043Z",
          "start_time": "2020-08-18T18:07:58.800556Z"
        },
        "id": "ViEZh5yTTRpn"
      },
      "source": [
        "m = aqp.plot_fairness_disparity(fdf, group_metric='fdr', attribute_name='PatientSex', \n",
        "                                min_group_size=0.01, significance_alpha=0.05)"
      ],
      "execution_count": null,
      "outputs": []
    },
    {
      "cell_type": "markdown",
      "metadata": {
        "id": "2JM1WyqeTRpn"
      },
      "source": [
        "Visualizing parity between groups in a single user-specified attribute for all calculated disparity metrics\n",
        "\n",
        "\n",
        "---\n",
        "\n",
        "\n",
        "The treemaps below display disparities between race attribute groups calculated based on a predefined reference group ('Caucasian') for all 10 disparity metrics, colored based on fairness determination for that attribute group (green = 'True' and red = 'False').\n",
        "\n",
        "As all treemap squares are sized and positioned based on group size, the population groups on all subplots are found in the same place across all disparity metrics, allowing for ease of comparison of fairness determinations for each 'race' group across every calculated dipsarity metric."
      ]
    },
    {
      "cell_type": "code",
      "metadata": {
        "ExecuteTime": {
          "end_time": "2020-08-18T18:08:01.114280Z",
          "start_time": "2020-08-18T18:07:59.006947Z"
        },
        "scrolled": true,
        "id": "cWAFg8jnTRpn"
      },
      "source": [
        "#Visualizing parity between groups in a single user-specified attribute for all calculated disparity metrics\n",
        "a_tm = aqp.plot_fairness_disparity_all(fdf, attributes=['PatientSex'], metrics='all', \n",
        "                                       significance_alpha=0.05)"
      ],
      "execution_count": null,
      "outputs": []
    },
    {
      "cell_type": "markdown",
      "metadata": {
        "id": "bcYwnocwTRpn"
      },
      "source": [
        "Visualizing parity between all groups for multiple user-specified disparity metrics\n",
        "\n",
        "\n",
        "---\n",
        "\n",
        "\n",
        "The treemaps below display Predicted Positive Group Rate (pprev) and Predicted Positive Rate (ppr) disparities between attribute groups for all three attributes (race, sex, age category) calculated based on predefined reference groups ('race' attribute: Caucasian, 'sex' attribute: Male, 'age_cat' attribute: 25-45), colored based on fairness determination for that attribute group (green = 'True' and red = 'False'). As we want to plot for all groups, there is no need to specify any attributes. \n",
        "\n",
        "We can see that the Predicted Positive Group Rate Parity (Impact Parity) determination was 'False' for nearly every race in comparison to Caucausians, and 'False' for every other age category in comparison to the 25-45 age group, and that overall Predicted Positive Rate Parity (Statistical Parity) did not have any 'True' fairness determinations at all."
      ]
    },
    {
      "cell_type": "code",
      "metadata": {
        "ExecuteTime": {
          "end_time": "2020-08-18T18:08:02.228172Z",
          "start_time": "2020-08-18T18:08:01.116380Z"
        },
        "scrolled": false,
        "id": "jqvId4C2TRpn"
      },
      "source": [
        "#Visualizing parity between all groups for multiple user-specified disparity metrics\n",
        "r_tm = aqp.plot_fairness_disparity_all(fdf, metrics=['pprev_disparity', 'ppr_disparity'], \n",
        "                                       significance_alpha=0.05)"
      ],
      "execution_count": null,
      "outputs": []
    },
    {
      "cell_type": "markdown",
      "metadata": {
        "id": "xCukQ4mxTRpo"
      },
      "source": [
        "Visualizing parity between groups in multiple user-specified attributes\n",
        "\n",
        "\n",
        "---\n",
        "\n",
        "\n",
        "The treemaps below display disparities between attribute groups for all two attributes (sex, age category) calculated based on predefined reference groups ('sex' attribute: Male, 'age_cat' attribute: 25-45) for the six default disparity metrics, colored based on fairness determination for that attribute group (green = 'True' and red = 'False'). As we want to see only the default metrics, we do not need to set the 'metrics' parameter. \n",
        "\n",
        "Note that there is slightly more parity between the sexes (FNR, FDR, FNR, and Statistical Parity) than between age categories (FDR Parity only)."
      ]
    },
    {
      "cell_type": "code",
      "metadata": {
        "ExecuteTime": {
          "end_time": "2020-08-18T18:08:04.178788Z",
          "start_time": "2020-08-18T18:08:02.234649Z"
        },
        "scrolled": true,
        "id": "gTDrQUy0TRpo"
      },
      "source": [
        "#Visualizing parity between groups in multiple user-specified attributes\n",
        "n_tm = aqp.plot_fairness_disparity_all(fdf, attributes=['PatientSex', 'PatientAge'], \n",
        "                                       significance_alpha=0.05)"
      ],
      "execution_count": null,
      "outputs": []
    },
    {
      "cell_type": "markdown",
      "metadata": {
        "id": "r2XBsHSsvBKA"
      },
      "source": [
        "# Report generation"
      ]
    },
    {
      "cell_type": "code",
      "metadata": {
        "id": "ERazObJ0vJ9-"
      },
      "source": [
        "!mkdir '/content/result'"
      ],
      "execution_count": null,
      "outputs": []
    },
    {
      "cell_type": "code",
      "metadata": {
        "id": "s4vsGogDZkw9"
      },
      "source": [
        "j.savefig('/content/result/j')\n",
        "min_met.savefig('/content/result/min_met')\n",
        "tm_capped.savefig('/content/result/tm_capped')\n",
        "dp.savefig('/content/result/fg')\n",
        "fg.savefig('/content/result/fg')\n",
        "a_tm.savefig('/content/result/a_tm')\n",
        "r_tm.savefig('/content/result/r_tm')\n",
        "n_tm.savefig('/content/result/n_tm')"
      ],
      "execution_count": null,
      "outputs": []
    },
    {
      "cell_type": "code",
      "metadata": {
        "id": "g9qmGRO-zYPd"
      },
      "source": [
        "def dataframe_to_image(dataframe , filename ,w ,  transparent= True):\n",
        "      df = dataframe\n",
        "      fig, ax = plt.subplots(figsize=(12, 4)) # set size frame\n",
        "      ax.xaxis.set_visible(False)  # hide the x axis\n",
        "      ax.yaxis.set_visible(False)  # hide the y axis\n",
        "      ax.set_frame_on(False)  # no visible frame, uncomment if size is ok\n",
        "\n",
        "      tabla = table(ax, df, loc='upper right', colWidths=[w]*len(df.columns))  # where df is your data frame\n",
        "\n",
        "      tabla.auto_set_font_size(False) # Activate set fontsize manually\n",
        "      tabla.set_fontsize(10) # if ++fontsize is necessary ++colWidths\n",
        "      #tabla.scale(1, 1.2) # change size table\n",
        "      plt.savefig('/content/result/' + filename + '.png', transparent= transparent)"
      ],
      "execution_count": null,
      "outputs": []
    },
    {
      "cell_type": "code",
      "metadata": {
        "id": "RX42ynkkCPAL"
      },
      "source": [
        "fdf1_1 = fdf1[['attribute_name' ,  \t'attribute_value' ,\t'tpr'  ,\t'tnr' ,\t'for' ,\t'fdr']]\n",
        "fdf1_2 = fdf1[[\t 'fpr', 'fnr' ,\t'npv' ,\t'precision' ,  \t'ppr' ,  \t'pprev' ,  \t'prev']]\n",
        "\n",
        "#dataframe_to_image(fdf1.round(2) , 'fdf1' , transparent= False)\n",
        "dataframe_to_image(fdf1_1.round(2) , 'fdf1_1' , 0.12 ,  transparent= False)\n",
        "dataframe_to_image(fdf1_2.round(2) , 'fdf1_2' , 0.08 , transparent= False)\n",
        "\n",
        "dataframe_to_image(fdf2.round(2) , 'fdf2' , 0.1 ,  transparent= False)\n",
        "\n",
        "fdf3_1 = fdf3[['attribute_name' ,  \t'attribute_value' ,\t'Unsupervised Fairness' ,\t'TPR Parity' ,\t'TypeI Parity' ,\t'TypeII Parity' ,\t'Impact Parity' ,\t'FOR Parity' ]]\n",
        "fdf3_2 = fdf3[[\t'TNR Parity' ,\t'Supervised Fairness' ,\t'FDR Parity' ,\t'Statistical Parity' , 'Equalized Odds' ,\t'FNR Parity' , \t'NPV Parity' ,\t'Precision Parity' ,\t'FPR Parity' ]]\n",
        "\n",
        "#dataframe_to_image(fdf3.round(2) , 'fdf3' , transparent= False)\n",
        "dataframe_to_image(fdf3_1.round(2) , 'fdf3_1' , 0.12 ,  transparent= False)\n",
        "dataframe_to_image(fdf3_2.round(2) , 'fdf3_2' , 0.10 , transparent= False)\n",
        "\n",
        "#!zip -r 'example.zip' '/content/result'"
      ],
      "execution_count": null,
      "outputs": []
    },
    {
      "cell_type": "code",
      "metadata": {
        "id": "CDHDibCOdtAx"
      },
      "source": [
        "#fdf1.append(fdf2)"
      ],
      "execution_count": null,
      "outputs": []
    },
    {
      "cell_type": "markdown",
      "metadata": {
        "id": "C2kwz-gG9Df0"
      },
      "source": [
        "### Pdf generation\n",
        "\n",
        "https://pyfpdf.readthedocs.io/en/latest/Tutorial/index.html"
      ]
    },
    {
      "cell_type": "code",
      "metadata": {
        "id": "gGwDgJY2xK57"
      },
      "source": [
        "!pip install fpdf"
      ],
      "execution_count": null,
      "outputs": []
    },
    {
      "cell_type": "code",
      "metadata": {
        "id": "d7CwYm6HJw3S"
      },
      "source": [
        "from fpdf import FPDF"
      ],
      "execution_count": null,
      "outputs": []
    },
    {
      "cell_type": "code",
      "metadata": {
        "id": "dRM7i3jEyN_c"
      },
      "source": [
        "direc = '/content/result/'\n",
        "page = 0\n",
        "\n",
        "pdf = FPDF()\n",
        "\n",
        "'''pdf.add_page()\n",
        "pdf.set_font('Arial', 'B', 8)\n",
        "pdf.cell(1, 1, 'Hello World!')\n",
        "start_y = 5\n",
        "height = 60\n",
        "pdf.image(direc + 'fdf1_1.png' ,0,start_y,200,height , )\n",
        "start_y = start_y + height \n",
        "pdf.image(direc + 'fdf1_2.png' ,0,start_y,250,height)\n",
        "pdf.cell(5, 65, 'Hello World!')\n",
        "start_y = start_y + height \n",
        "pdf.image(direc + 'fdf2.png' ,0 ,start_y,250,height)\n",
        "start_y = start_y + height \n",
        "pdf.image(direc + 'fdf3_1.png' ,0, start_y,250,height)\n",
        "start_y = start_y + height \n",
        "pdf.image(direc + 'fdf3_2.png' ,0, start_y,250,height)\n",
        "page += 1\n",
        "print('page' , page)'''\n",
        "\n",
        "#metrics\n",
        "pdf.add_page()\n",
        "pdf.image(direc + 'fg.png' ,0,5,200,190)\n",
        "\n",
        "page += 1\n",
        "print('page' , page)\n",
        "\n",
        "pdf.add_page()\n",
        "pdf.image(direc + 'j.png' ,0,5,200,70)\n",
        "pdf.image(direc + 'min_met.png' ,0,100,200,150)\n",
        "page += 1\n",
        "print('page' , page)\n",
        "\n",
        "#disparity age\n",
        "pdf.add_page()\n",
        "pdf.image(direc + 'tm_capped.png' ,0,5,200,250)\n",
        "page += 1\n",
        "print('page' , page)\n",
        "\n",
        "#disparity sex\n",
        "pdf.add_page()\n",
        "pdf.image(direc + 'a_tm.png' ,0,5,200,250)\n",
        "page += 1\n",
        "print('page' , page)\n",
        "\n",
        "pdf.add_page()\n",
        "pdf.image(direc + 'n_tm.png' ,0,5,200,250)\n",
        "page += 1\n",
        "print('page' , page)\n",
        "\n",
        "pdf.add_page()\n",
        "pdf.image(direc + 'r_tm.png' ,0,5,200,110)\n",
        "page += 1\n",
        "print('page' , page)\n",
        "\n",
        "pdf.output(\"Report12673.pdf\", \"F\")"
      ],
      "execution_count": null,
      "outputs": []
    },
    {
      "cell_type": "code",
      "metadata": {
        "id": "MvEzWDci1uiA"
      },
      "source": [
        ""
      ],
      "execution_count": null,
      "outputs": []
    }
  ]
}